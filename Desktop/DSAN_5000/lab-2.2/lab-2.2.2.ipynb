{
  "cells": [
    {
      "cell_type": "markdown",
      "metadata": {},
      "source": [
        "---\n",
        "title: \"lab-2.2\"\n",
        "output: html_document\n",
        "---"
      ]
    },
    {
      "cell_type": "code",
      "execution_count": 19,
      "metadata": {
        "vscode": {
          "languageId": "r"
        }
      },
      "outputs": [],
      "source": [
        "knitr::opts_chunk$set(echo = TRUE)"
      ]
    },
    {
      "cell_type": "markdown",
      "metadata": {},
      "source": [
        "# Lab-2.2: Cleaning record data in R and Python\n",
        "\n",
        "*Author James Hickman, post any questions to slack* \n",
        "  \n",
        "**Name:** INSERT FIRST AND LAST NAME HERE\n",
        "\n",
        "**Lecture section:** INSERT LECTURE SECTION HERE\n",
        "\n",
        "**Lab section:** INSERT LAB SECTION HERE\n",
        "\n",
        "**Instructions** \n",
        "  * Part-1: Read and work through all tutorial content and do all exercises below using python\n",
        "  * Part-2: Create a .rmd file, copy all markdown content into the .rmd file, and repeat all coding exercises below in R instead of python (using tibbles instead of data-frames)\n",
        "\n",
        "**Submission:**\n",
        "* You need to upload TWO documents to Canvas when you are done\n",
        "  \n",
        "  * (1) A PDF (or HTML) of the completed .ipynb document (python submission) \n",
        "  * (2) A PDF (or HTML) of the completed .rmd document (R submission) \n",
        "<br><br/>\n",
        "\n",
        "* **BOTH ARE REQUIRED, YOU CANNOT DO JUST ONE OR THE OTHER**\n",
        "* The final uploaded version should NOT have any code-errors present \n",
        "* All outputs must be visible in the uploaded version, including code-cell outputs, images, graphs, etc\n",
        "\n",
        "### Cleaning record data \n",
        "\n",
        "In practice, there is no \"one size fits all\" method for data cleaning. \n",
        "\n",
        "How you clean the data depends on your objective and what kind of data you have (e.g. record, text, transaction,.. etc) \n",
        "\n",
        "Record data is very common, therefore we will focus on this as a example case, specifically the following common operations. \n",
        "\n",
        "* merging data frames\n",
        "* Removing un-needed columns \n",
        "* Dealing with missing values and non-sense values \n",
        "* standardization \n",
        "* normalization \n",
        "\n",
        "We will intentionally focus on an overly simply toy data set, the focus is on the operations, not the complexity of the data\n",
        "\n",
        "### Read in the data \n",
        "\n",
        "* Use pandas to read in the \"example-1.csv\" and \"example-2.csv\" files in the folder named \"data\"\n",
        "  \n",
        "* Before moving further, open the files in VSC, install relevant .csv extensions (optional), manually expect the data and look for obvious issues \n"
      ]
    },
    {
      "cell_type": "code",
      "execution_count": 20,
      "metadata": {
        "vscode": {
          "languageId": "r"
        }
      },
      "outputs": [
        {
          "data": {
            "text/html": [
              "<table class=\"dataframe\">\n",
              "<caption>A data.frame: 2 x 5</caption>\n",
              "<thead>\n",
              "\t<tr><th></th><th scope=col>customer_id</th><th scope=col>initials</th><th scope=col>age</th><th scope=col>account_balance_usd</th><th scope=col>yearly_income_usd</th></tr>\n",
              "\t<tr><th></th><th scope=col>&lt;int&gt;</th><th scope=col>&lt;chr&gt;</th><th scope=col>&lt;int&gt;</th><th scope=col>&lt;dbl&gt;</th><th scope=col>&lt;chr&gt;</th></tr>\n",
              "</thead>\n",
              "<tbody>\n",
              "\t<tr><th scope=row>1</th><td>1</td><td> 546</td><td>32</td><td>1232</td><td> 140230.</td></tr>\n",
              "\t<tr><th scope=row>2</th><td>1</td><td> JKJ</td><td>32</td><td>1232</td><td> USA    </td></tr>\n",
              "</tbody>\n",
              "</table>\n"
            ],
            "text/latex": [
              "A data.frame: 2 x 5\n",
              "\\begin{tabular}{r|lllll}\n",
              "  & customer\\_id & initials & age & account\\_balance\\_usd & yearly\\_income\\_usd\\\\\n",
              "  & <int> & <chr> & <int> & <dbl> & <chr>\\\\\n",
              "\\hline\n",
              "\t1 & 1 &  546 & 32 & 1232 &  140230.\\\\\n",
              "\t2 & 1 &  JKJ & 32 & 1232 &  USA    \\\\\n",
              "\\end{tabular}\n"
            ],
            "text/markdown": [
              "\n",
              "A data.frame: 2 x 5\n",
              "\n",
              "| <!--/--> | customer_id &lt;int&gt; | initials &lt;chr&gt; | age &lt;int&gt; | account_balance_usd &lt;dbl&gt; | yearly_income_usd &lt;chr&gt; |\n",
              "|---|---|---|---|---|---|\n",
              "| 1 | 1 |  546 | 32 | 1232 |  140230. |\n",
              "| 2 | 1 |  JKJ | 32 | 1232 |  USA     |\n",
              "\n"
            ],
            "text/plain": [
              "  customer_id initials age account_balance_usd yearly_income_usd\n",
              "1 1            546     32  1232                 140230.         \n",
              "2 1            JKJ     32  1232                 USA             "
            ]
          },
          "metadata": {},
          "output_type": "display_data"
        },
        {
          "data": {
            "text/html": [
              "<table class=\"dataframe\">\n",
              "<caption>A data.frame: 2 x 5</caption>\n",
              "<thead>\n",
              "\t<tr><th></th><th scope=col>customer_id</th><th scope=col>num_children</th><th scope=col>is_house_owner</th><th scope=col>housing_payment_pesos</th><th scope=col>country</th></tr>\n",
              "\t<tr><th></th><th scope=col>&lt;int&gt;</th><th scope=col>&lt;int&gt;</th><th scope=col>&lt;dbl&gt;</th><th scope=col>&lt;dbl&gt;</th><th scope=col>&lt;chr&gt;</th></tr>\n",
              "</thead>\n",
              "<tbody>\n",
              "\t<tr><th scope=row>1</th><td>1</td><td>3</td><td>  0</td><td>22000</td><td> usa</td></tr>\n",
              "\t<tr><th scope=row>2</th><td>2</td><td>0</td><td>NaN</td><td>22450</td><td> US </td></tr>\n",
              "</tbody>\n",
              "</table>\n"
            ],
            "text/latex": [
              "A data.frame: 2 x 5\n",
              "\\begin{tabular}{r|lllll}\n",
              "  & customer\\_id & num\\_children & is\\_house\\_owner & housing\\_payment\\_pesos & country\\\\\n",
              "  & <int> & <int> & <dbl> & <dbl> & <chr>\\\\\n",
              "\\hline\n",
              "\t1 & 1 & 3 &   0 & 22000 &  usa\\\\\n",
              "\t2 & 2 & 0 & NaN & 22450 &  US \\\\\n",
              "\\end{tabular}\n"
            ],
            "text/markdown": [
              "\n",
              "A data.frame: 2 x 5\n",
              "\n",
              "| <!--/--> | customer_id &lt;int&gt; | num_children &lt;int&gt; | is_house_owner &lt;dbl&gt; | housing_payment_pesos &lt;dbl&gt; | country &lt;chr&gt; |\n",
              "|---|---|---|---|---|---|\n",
              "| 1 | 1 | 3 |   0 | 22000 |  usa |\n",
              "| 2 | 2 | 0 | NaN | 22450 |  US  |\n",
              "\n"
            ],
            "text/plain": [
              "  customer_id num_children is_house_owner housing_payment_pesos country\n",
              "1 1           3              0            22000                  usa   \n",
              "2 2           0            NaN            22450                  US    "
            ]
          },
          "metadata": {},
          "output_type": "display_data"
        },
        {
          "data": {
            "text/html": [
              "<table class=\"dataframe\">\n",
              "<caption>A data.frame: 2 x 5</caption>\n",
              "<thead>\n",
              "\t<tr><th></th><th scope=col>customer_id</th><th scope=col>initials</th><th scope=col>age</th><th scope=col>account_balance_usd</th><th scope=col>yearly_income_usd</th></tr>\n",
              "\t<tr><th></th><th scope=col>&lt;int&gt;</th><th scope=col>&lt;chr&gt;</th><th scope=col>&lt;int&gt;</th><th scope=col>&lt;dbl&gt;</th><th scope=col>&lt;chr&gt;</th></tr>\n",
              "</thead>\n",
              "<tbody>\n",
              "\t<tr><th scope=row>7</th><td>6</td><td> JKL</td><td>53</td><td>143</td><td> 261000.0</td></tr>\n",
              "\t<tr><th scope=row>8</th><td>7</td><td> JKL</td><td>53</td><td>143</td><td> 261000.0</td></tr>\n",
              "</tbody>\n",
              "</table>\n"
            ],
            "text/latex": [
              "A data.frame: 2 x 5\n",
              "\\begin{tabular}{r|lllll}\n",
              "  & customer\\_id & initials & age & account\\_balance\\_usd & yearly\\_income\\_usd\\\\\n",
              "  & <int> & <chr> & <int> & <dbl> & <chr>\\\\\n",
              "\\hline\n",
              "\t7 & 6 &  JKL & 53 & 143 &  261000.0\\\\\n",
              "\t8 & 7 &  JKL & 53 & 143 &  261000.0\\\\\n",
              "\\end{tabular}\n"
            ],
            "text/markdown": [
              "\n",
              "A data.frame: 2 x 5\n",
              "\n",
              "| <!--/--> | customer_id &lt;int&gt; | initials &lt;chr&gt; | age &lt;int&gt; | account_balance_usd &lt;dbl&gt; | yearly_income_usd &lt;chr&gt; |\n",
              "|---|---|---|---|---|---|\n",
              "| 7 | 6 |  JKL | 53 | 143 |  261000.0 |\n",
              "| 8 | 7 |  JKL | 53 | 143 |  261000.0 |\n",
              "\n"
            ],
            "text/plain": [
              "  customer_id initials age account_balance_usd yearly_income_usd\n",
              "7 6            JKL     53  143                  261000.0        \n",
              "8 7            JKL     53  143                  261000.0        "
            ]
          },
          "metadata": {},
          "output_type": "display_data"
        },
        {
          "data": {
            "text/html": [
              "<table class=\"dataframe\">\n",
              "<caption>A data.frame: 2 x 5</caption>\n",
              "<thead>\n",
              "\t<tr><th></th><th scope=col>customer_id</th><th scope=col>num_children</th><th scope=col>is_house_owner</th><th scope=col>housing_payment_pesos</th><th scope=col>country</th></tr>\n",
              "\t<tr><th></th><th scope=col>&lt;int&gt;</th><th scope=col>&lt;int&gt;</th><th scope=col>&lt;dbl&gt;</th><th scope=col>&lt;dbl&gt;</th><th scope=col>&lt;chr&gt;</th></tr>\n",
              "</thead>\n",
              "<tbody>\n",
              "\t<tr><th scope=row>5</th><td>6</td><td>3</td><td>0</td><td>24340</td><td> mex</td></tr>\n",
              "\t<tr><th scope=row>6</th><td>7</td><td>3</td><td>0</td><td>24140</td><td> MEX</td></tr>\n",
              "</tbody>\n",
              "</table>\n"
            ],
            "text/latex": [
              "A data.frame: 2 x 5\n",
              "\\begin{tabular}{r|lllll}\n",
              "  & customer\\_id & num\\_children & is\\_house\\_owner & housing\\_payment\\_pesos & country\\\\\n",
              "  & <int> & <int> & <dbl> & <dbl> & <chr>\\\\\n",
              "\\hline\n",
              "\t5 & 6 & 3 & 0 & 24340 &  mex\\\\\n",
              "\t6 & 7 & 3 & 0 & 24140 &  MEX\\\\\n",
              "\\end{tabular}\n"
            ],
            "text/markdown": [
              "\n",
              "A data.frame: 2 x 5\n",
              "\n",
              "| <!--/--> | customer_id &lt;int&gt; | num_children &lt;int&gt; | is_house_owner &lt;dbl&gt; | housing_payment_pesos &lt;dbl&gt; | country &lt;chr&gt; |\n",
              "|---|---|---|---|---|---|\n",
              "| 5 | 6 | 3 | 0 | 24340 |  mex |\n",
              "| 6 | 7 | 3 | 0 | 24140 |  MEX |\n",
              "\n"
            ],
            "text/plain": [
              "  customer_id num_children is_house_owner housing_payment_pesos country\n",
              "5 6           3            0              24340                  mex   \n",
              "6 7           3            0              24140                  MEX   "
            ]
          },
          "metadata": {},
          "output_type": "display_data"
        },
        {
          "data": {
            "text/html": [
              "<style>\n",
              ".list-inline {list-style: none; margin:0; padding: 0}\n",
              ".list-inline>li {display: inline-block}\n",
              ".list-inline>li:not(:last-child)::after {content: \"\\00b7\"; padding: 0 .5ex}\n",
              "</style>\n",
              "<ol class=list-inline><li>'customer_id'</li><li>'initials'</li><li>'age'</li><li>'account_balance_usd'</li><li>'yearly_income_usd'</li></ol>\n"
            ],
            "text/latex": [
              "\\begin{enumerate*}\n",
              "\\item 'customer\\_id'\n",
              "\\item 'initials'\n",
              "\\item 'age'\n",
              "\\item 'account\\_balance\\_usd'\n",
              "\\item 'yearly\\_income\\_usd'\n",
              "\\end{enumerate*}\n"
            ],
            "text/markdown": [
              "1. 'customer_id'\n",
              "2. 'initials'\n",
              "3. 'age'\n",
              "4. 'account_balance_usd'\n",
              "5. 'yearly_income_usd'\n",
              "\n",
              "\n"
            ],
            "text/plain": [
              "[1] \"customer_id\"         \"initials\"            \"age\"                \n",
              "[4] \"account_balance_usd\" \"yearly_income_usd\"  "
            ]
          },
          "metadata": {},
          "output_type": "display_data"
        },
        {
          "data": {
            "text/html": [
              "<style>\n",
              ".list-inline {list-style: none; margin:0; padding: 0}\n",
              ".list-inline>li {display: inline-block}\n",
              ".list-inline>li:not(:last-child)::after {content: \"\\00b7\"; padding: 0 .5ex}\n",
              "</style>\n",
              "<ol class=list-inline><li>'customer_id'</li><li>'num_children'</li><li>'is_house_owner'</li><li>'housing_payment_pesos'</li><li>'country'</li></ol>\n"
            ],
            "text/latex": [
              "\\begin{enumerate*}\n",
              "\\item 'customer\\_id'\n",
              "\\item 'num\\_children'\n",
              "\\item 'is\\_house\\_owner'\n",
              "\\item 'housing\\_payment\\_pesos'\n",
              "\\item 'country'\n",
              "\\end{enumerate*}\n"
            ],
            "text/markdown": [
              "1. 'customer_id'\n",
              "2. 'num_children'\n",
              "3. 'is_house_owner'\n",
              "4. 'housing_payment_pesos'\n",
              "5. 'country'\n",
              "\n",
              "\n"
            ],
            "text/plain": [
              "[1] \"customer_id\"           \"num_children\"          \"is_house_owner\"       \n",
              "[4] \"housing_payment_pesos\" \"country\"              "
            ]
          },
          "metadata": {},
          "output_type": "display_data"
        },
        {
          "name": "stdout",
          "output_type": "stream",
          "text": [
            "[1] \"NOT REQUIRED R REMOVES SPACES UPON READING\"\n"
          ]
        },
        {
          "data": {
            "text/html": [
              "<style>\n",
              ".list-inline {list-style: none; margin:0; padding: 0}\n",
              ".list-inline>li {display: inline-block}\n",
              ".list-inline>li:not(:last-child)::after {content: \"\\00b7\"; padding: 0 .5ex}\n",
              "</style>\n",
              "<ol class=list-inline><li>'customer_id'</li><li>'initials'</li><li>'age_years'</li><li>'account_balance_usd'</li><li>'yearly_income_usd'</li></ol>\n"
            ],
            "text/latex": [
              "\\begin{enumerate*}\n",
              "\\item 'customer\\_id'\n",
              "\\item 'initials'\n",
              "\\item 'age\\_years'\n",
              "\\item 'account\\_balance\\_usd'\n",
              "\\item 'yearly\\_income\\_usd'\n",
              "\\end{enumerate*}\n"
            ],
            "text/markdown": [
              "1. 'customer_id'\n",
              "2. 'initials'\n",
              "3. 'age_years'\n",
              "4. 'account_balance_usd'\n",
              "5. 'yearly_income_usd'\n",
              "\n",
              "\n"
            ],
            "text/plain": [
              "[1] \"customer_id\"         \"initials\"            \"age_years\"          \n",
              "[4] \"account_balance_usd\" \"yearly_income_usd\"  "
            ]
          },
          "metadata": {},
          "output_type": "display_data"
        },
        {
          "data": {
            "text/html": [
              "<style>\n",
              ".list-inline {list-style: none; margin:0; padding: 0}\n",
              ".list-inline>li {display: inline-block}\n",
              ".list-inline>li:not(:last-child)::after {content: \"\\00b7\"; padding: 0 .5ex}\n",
              "</style>\n",
              "<ol class=list-inline><li>'customer_id'</li><li>'num_children'</li><li>'is_house_owner'</li><li>'housing_payment_pesos'</li><li>'country_of_origin'</li></ol>\n"
            ],
            "text/latex": [
              "\\begin{enumerate*}\n",
              "\\item 'customer\\_id'\n",
              "\\item 'num\\_children'\n",
              "\\item 'is\\_house\\_owner'\n",
              "\\item 'housing\\_payment\\_pesos'\n",
              "\\item 'country\\_of\\_origin'\n",
              "\\end{enumerate*}\n"
            ],
            "text/markdown": [
              "1. 'customer_id'\n",
              "2. 'num_children'\n",
              "3. 'is_house_owner'\n",
              "4. 'housing_payment_pesos'\n",
              "5. 'country_of_origin'\n",
              "\n",
              "\n"
            ],
            "text/plain": [
              "[1] \"customer_id\"           \"num_children\"          \"is_house_owner\"       \n",
              "[4] \"housing_payment_pesos\" \"country_of_origin\"    "
            ]
          },
          "metadata": {},
          "output_type": "display_data"
        }
      ],
      "source": [
        "library('tidyverse')\n",
        "\n",
        "# INSERT CODE TO READ THE DATA FILES \n",
        "df1 = read.csv(\"./data/example-1.csv\")\n",
        "df2 = read.csv(\"./data/example-2.csv\")\n",
        " \n",
        "# LOOK AT FIRST COUPLE LINES\n",
        "head(df1,2)\n",
        "head(df2,2)\n",
        "\n",
        "# LOOK AT LAST COUPLE LINES\n",
        "tail(df1,2)\n",
        "tail(df2,2)\n",
        " \n",
        "colnames(df1)\n",
        "colnames(df2)\n",
        "\n",
        "## INSERT CODE TO REMOVE SPACES FROM COLUMN NAMES\n",
        "print(\"NOT REQUIRED R REMOVES SPACES UPON READING\")\n",
        "\n",
        "# INSERT CODE TO RENAME THE COLUMN NAME \"age\" --> \"age_years\" and \"country\" as \"country_of_origin\"\n",
        "# PRINT THE MODIFIED COLUMN NAMES WHEN DONE\n",
        "colnames(df1) = c('customer_id','initials','age_years','account_balance_usd','yearly_income_usd')\n",
        "colnames(df2) = c('customer_id','num_children','is_house_owner','housing_payment_pesos','country_of_origin')\n",
        " \n",
        "colnames(df1)\n",
        "colnames(df2)\n",
        " \n",
        "#INSERT CODE TO CONVERT TYPECAST \"housing_payment_pesos\" AS TYPE \"FLOAT\"\n",
        "df2$housing_payment_pesos = as.numeric(df2$housing_payment_pesos)\n",
        " \n",
        "#INSERT CODE TO CONVERT \"housing_payment_pesos\" to USD\n",
        "# 1 Mexican Peso = 0.050 USD\n",
        "# 1 USD = 19.88 Mexican Peso\n",
        "df2$housing_payment_pesos = df2$housing_payment_pesos/19.88\n",
        " \n",
        "#INSERT CODE TO RENAME \"housing_payment_pesos\" to \"housing_payment_usd\"\n",
        "colnames(df2) = c('customer_id','num_children','is_house_owner','housing_payment_usd','country_of_origin')\n",
        " \n",
        "# INSERT CODE TO MAKE SURE ALL \"US\" TAGS equal \"usa\" and all \"MEX\" tags equal \"mex\"\n",
        "df2$country_of_origin = tolower(df2$country_of_origin)\n",
        "for(i in 1:length(df2$country_of_origin)){\n",
        "    if(grepl(\"us\",df2$country_of_origin[i])){\n",
        "        df2$country_of_origin[i] = \"usa\"\n",
        "    }\n",
        "    if(grepl(\"mex\",df2$country_of_origin[i])){\n",
        "        df2$country_of_origin[i] = \"mex\"\n",
        "    }\n",
        "}"
      ]
    },
    {
      "cell_type": "markdown",
      "metadata": {},
      "source": [
        "### Merging data sets \n",
        "\n",
        "The easiest way to merge data files is when a \"common-key\" exists (i.e. a column shared by both files) \n",
        "\n",
        "In our toy example the customer_id can be used as a common key \n",
        "\n",
        "Data sets are typically merged using SQL type join operations (inner,outer,left,right). \n",
        "\n",
        "See the lecture slides for examples and codes for these join operations. "
      ]
    },
    {
      "cell_type": "code",
      "execution_count": 21,
      "metadata": {
        "vscode": {
          "languageId": "r"
        }
      },
      "outputs": [
        {
          "name": "stderr",
          "output_type": "stream",
          "text": [
            "\u001b[1m\u001b[22mJoining with `by = join_by(customer_id)`\n"
          ]
        },
        {
          "name": "stdout",
          "output_type": "stream",
          "text": [
            "[1] \"NOT NEEDED, R ALREADY DOES UPON READING\"\n"
          ]
        },
        {
          "data": {
            "text/html": [
              "<style>\n",
              ".list-inline {list-style: none; margin:0; padding: 0}\n",
              ".list-inline>li {display: inline-block}\n",
              ".list-inline>li:not(:last-child)::after {content: \"\\00b7\"; padding: 0 .5ex}\n",
              "</style>\n",
              "<ol class=list-inline><li>8</li><li>9</li></ol>\n"
            ],
            "text/latex": [
              "\\begin{enumerate*}\n",
              "\\item 8\n",
              "\\item 9\n",
              "\\end{enumerate*}\n"
            ],
            "text/markdown": [
              "1. 8\n",
              "2. 9\n",
              "\n",
              "\n"
            ],
            "text/plain": [
              "[1] 8 9"
            ]
          },
          "metadata": {},
          "output_type": "display_data"
        },
        {
          "data": {
            "text/html": [
              "<style>\n",
              ".dl-inline {width: auto; margin:0; padding: 0}\n",
              ".dl-inline>dt, .dl-inline>dd {float: none; width: auto; display: inline-block}\n",
              ".dl-inline>dt::after {content: \":\\0020\"; padding-right: .5ex}\n",
              ".dl-inline>dt:not(:first-of-type) {padding-left: .5ex}\n",
              "</style><dl class=dl-inline><dt>customer_id</dt><dd>0</dd><dt>initials</dt><dd>0</dd><dt>age_years</dt><dd>1</dd><dt>account_balance_usd</dt><dd>1</dd><dt>yearly_income_usd</dt><dd>0</dd><dt>num_children</dt><dd>1</dd><dt>is_house_owner</dt><dd>2</dd><dt>housing_payment_usd</dt><dd>1</dd><dt>country_of_origin</dt><dd>1</dd></dl>\n"
            ],
            "text/latex": [
              "\\begin{description*}\n",
              "\\item[customer\\textbackslash{}\\_id] 0\n",
              "\\item[initials] 0\n",
              "\\item[age\\textbackslash{}\\_years] 1\n",
              "\\item[account\\textbackslash{}\\_balance\\textbackslash{}\\_usd] 1\n",
              "\\item[yearly\\textbackslash{}\\_income\\textbackslash{}\\_usd] 0\n",
              "\\item[num\\textbackslash{}\\_children] 1\n",
              "\\item[is\\textbackslash{}\\_house\\textbackslash{}\\_owner] 2\n",
              "\\item[housing\\textbackslash{}\\_payment\\textbackslash{}\\_usd] 1\n",
              "\\item[country\\textbackslash{}\\_of\\textbackslash{}\\_origin] 1\n",
              "\\end{description*}\n"
            ],
            "text/markdown": [
              "customer_id\n",
              ":   0initials\n",
              ":   0age_years\n",
              ":   1account_balance_usd\n",
              ":   1yearly_income_usd\n",
              ":   0num_children\n",
              ":   1is_house_owner\n",
              ":   2housing_payment_usd\n",
              ":   1country_of_origin\n",
              ":   1\n",
              "\n"
            ],
            "text/plain": [
              "        customer_id            initials           age_years account_balance_usd \n",
              "                  0                   0                   1                   1 \n",
              "  yearly_income_usd        num_children      is_house_owner housing_payment_usd \n",
              "                  0                   1                   2                   1 \n",
              "  country_of_origin \n",
              "                  1 "
            ]
          },
          "metadata": {},
          "output_type": "display_data"
        },
        {
          "data": {
            "text/html": [
              "<table class=\"dataframe\">\n",
              "<caption>A data.frame: 8 x 7</caption>\n",
              "<thead>\n",
              "\t<tr><th></th><th scope=col>customer_id</th><th scope=col>age_years</th><th scope=col>account_balance_usd</th><th scope=col>yearly_income_usd</th><th scope=col>is_house_owner</th><th scope=col>housing_payment_usd</th><th scope=col>country_of_origin</th></tr>\n",
              "\t<tr><th></th><th scope=col>&lt;int&gt;</th><th scope=col>&lt;int&gt;</th><th scope=col>&lt;dbl&gt;</th><th scope=col>&lt;chr&gt;</th><th scope=col>&lt;dbl&gt;</th><th scope=col>&lt;dbl&gt;</th><th scope=col>&lt;chr&gt;</th></tr>\n",
              "</thead>\n",
              "<tbody>\n",
              "\t<tr><th scope=row>1</th><td>1</td><td> 32</td><td> 1232</td><td> 140230. </td><td>  0</td><td>1106.640</td><td>usa</td></tr>\n",
              "\t<tr><th scope=row>2</th><td>1</td><td> 32</td><td> 1232</td><td> USA     </td><td>  0</td><td>1106.640</td><td>usa</td></tr>\n",
              "\t<tr><th scope=row>3</th><td>2</td><td> 13</td><td>23023</td><td> 2100.0  </td><td>NaN</td><td>1129.276</td><td>usa</td></tr>\n",
              "\t<tr><th scope=row>4</th><td>3</td><td>-23</td><td>13023</td><td> 56000.0 </td><td>  1</td><td>1760.563</td><td>usa</td></tr>\n",
              "\t<tr><th scope=row>5</th><td>4</td><td> NA</td><td>15023</td><td> 265000.0</td><td>  1</td><td>1158.954</td><td>mex</td></tr>\n",
              "\t<tr><th scope=row>6</th><td>5</td><td> 24</td><td>   NA</td><td> 261000.0</td><td> NA</td><td>      NA</td><td>NA </td></tr>\n",
              "\t<tr><th scope=row>7</th><td>6</td><td> 53</td><td>  143</td><td> 261000.0</td><td>  0</td><td>1224.346</td><td>mex</td></tr>\n",
              "\t<tr><th scope=row>8</th><td>7</td><td> 53</td><td>  143</td><td> 261000.0</td><td>  0</td><td>1214.286</td><td>mex</td></tr>\n",
              "</tbody>\n",
              "</table>\n"
            ],
            "text/latex": [
              "A data.frame: 8 x 7\n",
              "\\begin{tabular}{r|lllllll}\n",
              "  & customer\\_id & age\\_years & account\\_balance\\_usd & yearly\\_income\\_usd & is\\_house\\_owner & housing\\_payment\\_usd & country\\_of\\_origin\\\\\n",
              "  & <int> & <int> & <dbl> & <chr> & <dbl> & <dbl> & <chr>\\\\\n",
              "\\hline\n",
              "\t1 & 1 &  32 &  1232 &  140230.  &   0 & 1106.640 & usa\\\\\n",
              "\t2 & 1 &  32 &  1232 &  USA      &   0 & 1106.640 & usa\\\\\n",
              "\t3 & 2 &  13 & 23023 &  2100.0   & NaN & 1129.276 & usa\\\\\n",
              "\t4 & 3 & -23 & 13023 &  56000.0  &   1 & 1760.563 & usa\\\\\n",
              "\t5 & 4 &  NA & 15023 &  265000.0 &   1 & 1158.954 & mex\\\\\n",
              "\t6 & 5 &  24 &    NA &  261000.0 &  NA &       NA & NA \\\\\n",
              "\t7 & 6 &  53 &   143 &  261000.0 &   0 & 1224.346 & mex\\\\\n",
              "\t8 & 7 &  53 &   143 &  261000.0 &   0 & 1214.286 & mex\\\\\n",
              "\\end{tabular}\n"
            ],
            "text/markdown": [
              "\n",
              "A data.frame: 8 x 7\n",
              "\n",
              "| <!--/--> | customer_id &lt;int&gt; | age_years &lt;int&gt; | account_balance_usd &lt;dbl&gt; | yearly_income_usd &lt;chr&gt; | is_house_owner &lt;dbl&gt; | housing_payment_usd &lt;dbl&gt; | country_of_origin &lt;chr&gt; |\n",
              "|---|---|---|---|---|---|---|---|\n",
              "| 1 | 1 |  32 |  1232 |  140230.  |   0 | 1106.640 | usa |\n",
              "| 2 | 1 |  32 |  1232 |  USA      |   0 | 1106.640 | usa |\n",
              "| 3 | 2 |  13 | 23023 |  2100.0   | NaN | 1129.276 | usa |\n",
              "| 4 | 3 | -23 | 13023 |  56000.0  |   1 | 1760.563 | usa |\n",
              "| 5 | 4 |  NA | 15023 |  265000.0 |   1 | 1158.954 | mex |\n",
              "| 6 | 5 |  24 |    NA |  261000.0 |  NA |       NA | NA  |\n",
              "| 7 | 6 |  53 |   143 |  261000.0 |   0 | 1224.346 | mex |\n",
              "| 8 | 7 |  53 |   143 |  261000.0 |   0 | 1214.286 | mex |\n",
              "\n"
            ],
            "text/plain": [
              "  customer_id age_years account_balance_usd yearly_income_usd is_house_owner\n",
              "1 1            32        1232                140230.            0           \n",
              "2 1            32        1232                USA                0           \n",
              "3 2            13       23023                2100.0           NaN           \n",
              "4 3           -23       13023                56000.0            1           \n",
              "5 4            NA       15023                265000.0           1           \n",
              "6 5            24          NA                261000.0          NA           \n",
              "7 6            53         143                261000.0           0           \n",
              "8 7            53         143                261000.0           0           \n",
              "  housing_payment_usd country_of_origin\n",
              "1 1106.640            usa              \n",
              "2 1106.640            usa              \n",
              "3 1129.276            usa              \n",
              "4 1760.563            usa              \n",
              "5 1158.954            mex              \n",
              "6       NA            NA               \n",
              "7 1224.346            mex              \n",
              "8 1214.286            mex              "
            ]
          },
          "metadata": {},
          "output_type": "display_data"
        },
        {
          "data": {
            "text/html": [
              "<style>\n",
              ".list-inline {list-style: none; margin:0; padding: 0}\n",
              ".list-inline>li {display: inline-block}\n",
              ".list-inline>li:not(:last-child)::after {content: \"\\00b7\"; padding: 0 .5ex}\n",
              "</style>\n",
              "<ol class=list-inline><li>8</li><li>7</li></ol>\n"
            ],
            "text/latex": [
              "\\begin{enumerate*}\n",
              "\\item 8\n",
              "\\item 7\n",
              "\\end{enumerate*}\n"
            ],
            "text/markdown": [
              "1. 8\n",
              "2. 7\n",
              "\n",
              "\n"
            ],
            "text/plain": [
              "[1] 8 7"
            ]
          },
          "metadata": {},
          "output_type": "display_data"
        },
        {
          "name": "stdout",
          "output_type": "stream",
          "text": [
            "[1] \"NOT NEEDED, R CONVERTED TO NA\"\n"
          ]
        }
      ],
      "source": [
        "# INSERT CODE TO DO AN \"OUTER\" JOIN FOR THE TWO DATA-FRAMES USING \"CUSTOMER_ID\" AS COMMON KEY\n",
        "df = df1 %>% full_join(df2)\n",
        "\n",
        "# INSERT CODE TO: REPLACE ALL CELLS THAT ARE ENTIRELY SPACE (OR EMPTY) WITH NAN \n",
        "print(\"NOT NEEDED, R ALREADY DOES UPON READING\")\n",
        "\n",
        "# INSERT CODE TO PRINT THE SHAPE OF THE NEW DATAFRAME\n",
        "dim(df)\n",
        " \n",
        "# INSERT CODE TO COUNT THE NUMBER OF MISSING VALUES IN EACH COLUMN (use google)\n",
        "colSums(is.na(df))\n",
        "\n",
        "### INSERT CODE TO REMOVE THE COLUMNS \"initials\" AND \"num_children\"\n",
        "df = subset(df, select = -c(initials,num_children))\n",
        " \n",
        "# INSERT CODE TO PRINT THE NEW DATA-FRAME AND ITS SHAPE\n",
        "df\n",
        "dim(df)\n",
        " \n",
        "## INSERT CODE TO REPLACE THE STRING \"nan\" WITH NAN, PRINT THE NEW DATA-FRAME WHEN DONE\n",
        "print(\"NOT NEEDED, R CONVERTED TO NA\")"
      ]
    },
    {
      "cell_type": "markdown",
      "metadata": {},
      "source": [
        "### Dealing with non-sense values \n",
        "\n",
        "Often there are values in the data that are clearly NOT legitimate, such as negative ages, or strings where numbers should be.\n",
        "\n",
        "You want to remove these before doing any averaging or other statistics because they will tamper with the results. \n",
        "\n",
        "For example, the average is highly sensitive to outliers, so negative ages would badly skew the mean."
      ]
    },
    {
      "cell_type": "code",
      "execution_count": 22,
      "metadata": {
        "vscode": {
          "languageId": "r"
        }
      },
      "outputs": [
        {
          "data": {
            "text/html": [
              "<style>\n",
              ".list-inline {list-style: none; margin:0; padding: 0}\n",
              ".list-inline>li {display: inline-block}\n",
              ".list-inline>li:not(:last-child)::after {content: \"\\00b7\"; padding: 0 .5ex}\n",
              "</style>\n",
              "<ol class=list-inline><li>' 140230.'</li><li>' USA'</li><li>' 2100.0'</li><li>' 56000.0'</li><li>' 261000.0'</li><li>' 261000.0'</li><li>' 261000.0'</li></ol>\n"
            ],
            "text/latex": [
              "\\begin{enumerate*}\n",
              "\\item ' 140230.'\n",
              "\\item ' USA'\n",
              "\\item ' 2100.0'\n",
              "\\item ' 56000.0'\n",
              "\\item ' 261000.0'\n",
              "\\item ' 261000.0'\n",
              "\\item ' 261000.0'\n",
              "\\end{enumerate*}\n"
            ],
            "text/markdown": [
              "1. ' 140230.'\n",
              "2. ' USA'\n",
              "3. ' 2100.0'\n",
              "4. ' 56000.0'\n",
              "5. ' 261000.0'\n",
              "6. ' 261000.0'\n",
              "7. ' 261000.0'\n",
              "\n",
              "\n"
            ],
            "text/plain": [
              "[1] \" 140230.\"  \" USA\"      \" 2100.0\"   \" 56000.0\"  \" 261000.0\" \" 261000.0\"\n",
              "[7] \" 261000.0\""
            ]
          },
          "metadata": {},
          "output_type": "display_data"
        },
        {
          "name": "stderr",
          "output_type": "stream",
          "text": [
            "Warning message in eval(expr, envir, enclos):\n",
            "\"NAs introduced by coercion\"\n"
          ]
        },
        {
          "data": {
            "text/html": [
              "<table class=\"dataframe\">\n",
              "<caption>A data.frame: 7 x 7</caption>\n",
              "<thead>\n",
              "\t<tr><th></th><th scope=col>customer_id</th><th scope=col>age_years</th><th scope=col>account_balance_usd</th><th scope=col>yearly_income_usd</th><th scope=col>is_house_owner</th><th scope=col>housing_payment_usd</th><th scope=col>country_of_origin</th></tr>\n",
              "\t<tr><th></th><th scope=col>&lt;int&gt;</th><th scope=col>&lt;dbl&gt;</th><th scope=col>&lt;dbl&gt;</th><th scope=col>&lt;chr&gt;</th><th scope=col>&lt;dbl&gt;</th><th scope=col>&lt;dbl&gt;</th><th scope=col>&lt;chr&gt;</th></tr>\n",
              "</thead>\n",
              "<tbody>\n",
              "\t<tr><th scope=row>1</th><td>1</td><td> 32</td><td> 1232</td><td>140230</td><td>  0</td><td>1106.640</td><td>usa</td></tr>\n",
              "\t<tr><th scope=row>2</th><td>1</td><td> 32</td><td> 1232</td><td>NA    </td><td>  0</td><td>1106.640</td><td>usa</td></tr>\n",
              "\t<tr><th scope=row>3</th><td>2</td><td> 13</td><td>23023</td><td>2100  </td><td>NaN</td><td>1129.276</td><td>usa</td></tr>\n",
              "\t<tr><th scope=row>4</th><td>3</td><td>NaN</td><td>13023</td><td>56000 </td><td>  1</td><td>1760.563</td><td>usa</td></tr>\n",
              "\t<tr><th scope=row>6</th><td>5</td><td> 24</td><td>   NA</td><td>261000</td><td> NA</td><td>      NA</td><td>NA </td></tr>\n",
              "\t<tr><th scope=row>7</th><td>6</td><td> 53</td><td>  143</td><td>261000</td><td>  0</td><td>1224.346</td><td>mex</td></tr>\n",
              "\t<tr><th scope=row>8</th><td>7</td><td> 53</td><td>  143</td><td>261000</td><td>  0</td><td>1214.286</td><td>mex</td></tr>\n",
              "</tbody>\n",
              "</table>\n"
            ],
            "text/latex": [
              "A data.frame: 7 x 7\n",
              "\\begin{tabular}{r|lllllll}\n",
              "  & customer\\_id & age\\_years & account\\_balance\\_usd & yearly\\_income\\_usd & is\\_house\\_owner & housing\\_payment\\_usd & country\\_of\\_origin\\\\\n",
              "  & <int> & <dbl> & <dbl> & <chr> & <dbl> & <dbl> & <chr>\\\\\n",
              "\\hline\n",
              "\t1 & 1 &  32 &  1232 & 140230 &   0 & 1106.640 & usa\\\\\n",
              "\t2 & 1 &  32 &  1232 & NA     &   0 & 1106.640 & usa\\\\\n",
              "\t3 & 2 &  13 & 23023 & 2100   & NaN & 1129.276 & usa\\\\\n",
              "\t4 & 3 & NaN & 13023 & 56000  &   1 & 1760.563 & usa\\\\\n",
              "\t6 & 5 &  24 &    NA & 261000 &  NA &       NA & NA \\\\\n",
              "\t7 & 6 &  53 &   143 & 261000 &   0 & 1224.346 & mex\\\\\n",
              "\t8 & 7 &  53 &   143 & 261000 &   0 & 1214.286 & mex\\\\\n",
              "\\end{tabular}\n"
            ],
            "text/markdown": [
              "\n",
              "A data.frame: 7 x 7\n",
              "\n",
              "| <!--/--> | customer_id &lt;int&gt; | age_years &lt;dbl&gt; | account_balance_usd &lt;dbl&gt; | yearly_income_usd &lt;chr&gt; | is_house_owner &lt;dbl&gt; | housing_payment_usd &lt;dbl&gt; | country_of_origin &lt;chr&gt; |\n",
              "|---|---|---|---|---|---|---|---|\n",
              "| 1 | 1 |  32 |  1232 | 140230 |   0 | 1106.640 | usa |\n",
              "| 2 | 1 |  32 |  1232 | NA     |   0 | 1106.640 | usa |\n",
              "| 3 | 2 |  13 | 23023 | 2100   | NaN | 1129.276 | usa |\n",
              "| 4 | 3 | NaN | 13023 | 56000  |   1 | 1760.563 | usa |\n",
              "| 6 | 5 |  24 |    NA | 261000 |  NA |       NA | NA  |\n",
              "| 7 | 6 |  53 |   143 | 261000 |   0 | 1224.346 | mex |\n",
              "| 8 | 7 |  53 |   143 | 261000 |   0 | 1214.286 | mex |\n",
              "\n"
            ],
            "text/plain": [
              "  customer_id age_years account_balance_usd yearly_income_usd is_house_owner\n",
              "1 1            32        1232               140230              0           \n",
              "2 1            32        1232               NA                  0           \n",
              "3 2            13       23023               2100              NaN           \n",
              "4 3           NaN       13023               56000               1           \n",
              "6 5            24          NA               261000             NA           \n",
              "7 6            53         143               261000              0           \n",
              "8 7            53         143               261000              0           \n",
              "  housing_payment_usd country_of_origin\n",
              "1 1106.640            usa              \n",
              "2 1106.640            usa              \n",
              "3 1129.276            usa              \n",
              "4 1760.563            usa              \n",
              "6       NA            NA               \n",
              "7 1224.346            mex              \n",
              "8 1214.286            mex              "
            ]
          },
          "metadata": {},
          "output_type": "display_data"
        }
      ],
      "source": [
        "## RUN THE FOLLOWING CODE, THIS USES A CONDITIONAL TO ONLY KEEP ROWS WHERE \"age_years\"=NaN \n",
        "df = df[is.na(df$age_years)==FALSE,]\n",
        "\n",
        "## INSERT CODE TO REPLACE ANY NEGATIVE \"age_years\" WITH NUMPY \"NaN\" OBJECT\n",
        "## There are multiple ways to do this, for example you can iterate over the \n",
        "# rows and use apply with a lambda function to enforce the conditional\n",
        "for(i in 1:length(df$age_years)){\n",
        "    if(df$age_years[i]<0){\n",
        "        df$age_years[i]=NaN\n",
        "    }\n",
        "}\n",
        "\n",
        "## RUN THE FOLLOWING CELL TO REMOVE ANY WHITE SPACE FROM \"yearly_income_usd\"\n",
        "\n",
        "## INSERT CODE TO REPLACE ANY \"yearly_income_usd\" THAT IS A STRING WITH NUMPY nan OBJECT\n",
        "df$yearly_income_usd\n",
        "for(i in 1:length(df$yearly_income_usd)){\n",
        "    df$yearly_income_usd[i] = as.numeric(df$yearly_income_usd[i])\n",
        "}\n",
        "\n",
        "# PRINT THE DATA FRAME\n",
        "df"
      ]
    },
    {
      "cell_type": "markdown",
      "metadata": {},
      "source": [
        "### Dealing with missing values \n",
        "\n",
        "There are many options to deal with missing values, some are better than others\n",
        "\n",
        "The easiest, and probably the worst option, is to just throw out any row with NaN"
      ]
    },
    {
      "cell_type": "code",
      "execution_count": 23,
      "metadata": {
        "vscode": {
          "languageId": "r"
        }
      },
      "outputs": [
        {
          "data": {
            "text/html": [
              "<table class=\"dataframe\">\n",
              "<caption>A data.frame: 3 x 7</caption>\n",
              "<thead>\n",
              "\t<tr><th></th><th scope=col>customer_id</th><th scope=col>age_years</th><th scope=col>account_balance_usd</th><th scope=col>yearly_income_usd</th><th scope=col>is_house_owner</th><th scope=col>housing_payment_usd</th><th scope=col>country_of_origin</th></tr>\n",
              "\t<tr><th></th><th scope=col>&lt;int&gt;</th><th scope=col>&lt;dbl&gt;</th><th scope=col>&lt;dbl&gt;</th><th scope=col>&lt;chr&gt;</th><th scope=col>&lt;dbl&gt;</th><th scope=col>&lt;dbl&gt;</th><th scope=col>&lt;chr&gt;</th></tr>\n",
              "</thead>\n",
              "<tbody>\n",
              "\t<tr><th scope=row>1</th><td>1</td><td>32</td><td>1232</td><td>140230</td><td>0</td><td>1106.640</td><td>usa</td></tr>\n",
              "\t<tr><th scope=row>7</th><td>6</td><td>53</td><td> 143</td><td>261000</td><td>0</td><td>1224.346</td><td>mex</td></tr>\n",
              "\t<tr><th scope=row>8</th><td>7</td><td>53</td><td> 143</td><td>261000</td><td>0</td><td>1214.286</td><td>mex</td></tr>\n",
              "</tbody>\n",
              "</table>\n"
            ],
            "text/latex": [
              "A data.frame: 3 x 7\n",
              "\\begin{tabular}{r|lllllll}\n",
              "  & customer\\_id & age\\_years & account\\_balance\\_usd & yearly\\_income\\_usd & is\\_house\\_owner & housing\\_payment\\_usd & country\\_of\\_origin\\\\\n",
              "  & <int> & <dbl> & <dbl> & <chr> & <dbl> & <dbl> & <chr>\\\\\n",
              "\\hline\n",
              "\t1 & 1 & 32 & 1232 & 140230 & 0 & 1106.640 & usa\\\\\n",
              "\t7 & 6 & 53 &  143 & 261000 & 0 & 1224.346 & mex\\\\\n",
              "\t8 & 7 & 53 &  143 & 261000 & 0 & 1214.286 & mex\\\\\n",
              "\\end{tabular}\n"
            ],
            "text/markdown": [
              "\n",
              "A data.frame: 3 x 7\n",
              "\n",
              "| <!--/--> | customer_id &lt;int&gt; | age_years &lt;dbl&gt; | account_balance_usd &lt;dbl&gt; | yearly_income_usd &lt;chr&gt; | is_house_owner &lt;dbl&gt; | housing_payment_usd &lt;dbl&gt; | country_of_origin &lt;chr&gt; |\n",
              "|---|---|---|---|---|---|---|---|\n",
              "| 1 | 1 | 32 | 1232 | 140230 | 0 | 1106.640 | usa |\n",
              "| 7 | 6 | 53 |  143 | 261000 | 0 | 1224.346 | mex |\n",
              "| 8 | 7 | 53 |  143 | 261000 | 0 | 1214.286 | mex |\n",
              "\n"
            ],
            "text/plain": [
              "  customer_id age_years account_balance_usd yearly_income_usd is_house_owner\n",
              "1 1           32        1232                140230            0             \n",
              "7 6           53         143                261000            0             \n",
              "8 7           53         143                261000            0             \n",
              "  housing_payment_usd country_of_origin\n",
              "1 1106.640            usa              \n",
              "7 1224.346            mex              \n",
              "8 1214.286            mex              "
            ]
          },
          "metadata": {},
          "output_type": "display_data"
        }
      ],
      "source": [
        "# INSERT CODE TO THROW AWAY ANY ROW WITH \"NaN\" \n",
        "# JUST PRINT THE OUTPUT, DONT RE-DEFINE THE DATAFRAME\n",
        "\n",
        "df[complete.cases(df),]"
      ]
    },
    {
      "cell_type": "markdown",
      "metadata": {},
      "source": [
        "**IMPORTANT README**\n",
        "\n",
        "Another option would be to replace the missing value with a typical value that summarizes that column, such as the mean, median, or mode. \n",
        "\n",
        "In practice, you need to be careful when doing this! You are essentially tampering with the data. \n",
        "\n",
        "You MUST document changes of this kind and be TRANSPARENT, otherwise it could be viewed as academic or professional dishonesty. \n",
        "\n",
        "Especially if it dramatically effects your results.\n",
        "\n",
        "Doing so will also effect all future analysis, since you are forcing a data point to become an \"average\" data point. \n",
        "\n",
        "For example, if you were looking for good basketball player's in a data driven way. Then replacing an unknown height with the \"mean\" would likely be a bad idea. \n",
        "\n",
        "In this case, you are making someone who might be 7 ft tall appear to be average height. \n",
        "\n",
        "You could also use more sophisticated methods such as MICE or regression to fill in the missing values (more on this next week).\n",
        "\n",
        "Finally, you might be able to logically infer the value from other columns in the data set.\n",
        "\n",
        "For example, if you have data on the price of someones house, you could likely predict their monthly payment assuming a typical 10-20% down payment and using a mortgage payment calculation formula.\n",
        "\n",
        "This would be acceptable as long as you document your assumptions, approximations, and methods. \n"
      ]
    },
    {
      "cell_type": "code",
      "execution_count": 24,
      "metadata": {
        "vscode": {
          "languageId": "r"
        }
      },
      "outputs": [
        {
          "data": {
            "text/html": [
              "<style>\n",
              ".dl-inline {width: auto; margin:0; padding: 0}\n",
              ".dl-inline>dt, .dl-inline>dd {float: none; width: auto; display: inline-block}\n",
              ".dl-inline>dt::after {content: \":\\0020\"; padding-right: .5ex}\n",
              ".dl-inline>dt:not(:first-of-type) {padding-left: .5ex}\n",
              "</style><dl class=dl-inline><dt>age_years</dt><dd>34.5</dd><dt>account_balance_usd</dt><dd>6466</dd><dt>yearly_income_usd</dt><dd>163555</dd><dt>housing_payment_usd</dt><dd>1256.95841716968</dd></dl>\n"
            ],
            "text/latex": [
              "\\begin{description*}\n",
              "\\item[age\\textbackslash{}\\_years] 34.5\n",
              "\\item[account\\textbackslash{}\\_balance\\textbackslash{}\\_usd] 6466\n",
              "\\item[yearly\\textbackslash{}\\_income\\textbackslash{}\\_usd] 163555\n",
              "\\item[housing\\textbackslash{}\\_payment\\textbackslash{}\\_usd] 1256.95841716968\n",
              "\\end{description*}\n"
            ],
            "text/markdown": [
              "age_years\n",
              ":   34.5account_balance_usd\n",
              ":   6466yearly_income_usd\n",
              ":   163555housing_payment_usd\n",
              ":   1256.95841716968\n",
              "\n"
            ],
            "text/plain": [
              "          age_years account_balance_usd   yearly_income_usd housing_payment_usd \n",
              "             34.500            6466.000          163555.000            1256.958 "
            ]
          },
          "metadata": {},
          "output_type": "display_data"
        }
      ],
      "source": [
        "# INSERT CODE TO TYPE-CAST ALL OF THE FOLLOWING COLUMNS AS FLOATS\n",
        "# [\"customer_id\",\"age_years\",\"account_balance_usd\",\"yearly_income_usd\",\"housing_payment_usd\"]\n",
        "df$customer_id = as.numeric(df$customer_id)\n",
        "df$age_years = as.numeric(df$age_years)\n",
        "df$account_balance_usd = as.numeric(df$account_balance_usd)\n",
        "df$yearly_income_usd = as.numeric(df$yearly_income_usd)\n",
        "df$housing_payment_usd = as.numeric(df$housing_payment_usd)\n",
        "\n",
        "# INSERT CODE TO COMPUTE AND PRINT THE MEAN,MEDIAN, AND STD DOWN THE COLUMNS (DO EACH IN ITS OWN CELL)\n",
        "# NOTICE THAT ONLY THE NUMERICAL ROWS ARE COMPUTED (YOU CAN IGNORE ANY DEPRECATION WARNINGS)\n",
        "# print((df[[\"age_years\",\"account_balance_usd\"]]).mean(axis=1))\n",
        "df %>%\n",
        "  select(\"age_years\",\"account_balance_usd\",\"yearly_income_usd\",\"housing_payment_usd\") %>%\n",
        "  sapply(mean, na.rm = TRUE)\n",
        "\n",
        "# INSERT CODE TO REPLACE ANY \"NaN\" in \"age_years\" WITH THE \n",
        "df$age_years[is.na(df$age_years)] = mean(df$age_years, na.rm = TRUE)\n",
        "\n",
        "# INSERT CODE TO REPLACE ANY \"NaN\" in \"yearly_income_usd\" WITH THE MEDIAN\n",
        "df$yearly_income_usd[is.na(df$yearly_income_usd)] = median(df$yearly_income_usd, na.rm = TRUE)\n",
        "\n",
        "# INSERT CODE TO THROW AWAY ANY ROW WITH \"NaN\" \n",
        "# THIS TIME RE-DEFINE THE DATAFRAME WITHOUT THE \"NaN\"\n",
        "df = df[complete.cases(df),]"
      ]
    },
    {
      "cell_type": "markdown",
      "metadata": {},
      "source": [
        "## De-duplication\n",
        "\n",
        "Notice how the customer_id=1 is represented twice in the data set. \n",
        "\n",
        "This can be un-desireable, since it adds extra weight (importance) to that data point. \n",
        "\n",
        "For example, linear-regression would put twice as much importance on fitting that point as opposed to the others."
      ]
    },
    {
      "cell_type": "code",
      "execution_count": 25,
      "metadata": {
        "vscode": {
          "languageId": "r"
        }
      },
      "outputs": [
        {
          "data": {
            "text/html": [
              "<table class=\"dataframe\">\n",
              "<caption>A data.frame: 4 x 7</caption>\n",
              "<thead>\n",
              "\t<tr><th></th><th scope=col>customer_id</th><th scope=col>age_years</th><th scope=col>account_balance_usd</th><th scope=col>yearly_income_usd</th><th scope=col>is_house_owner</th><th scope=col>housing_payment_usd</th><th scope=col>country_of_origin</th></tr>\n",
              "\t<tr><th></th><th scope=col>&lt;dbl&gt;</th><th scope=col>&lt;dbl&gt;</th><th scope=col>&lt;dbl&gt;</th><th scope=col>&lt;dbl&gt;</th><th scope=col>&lt;dbl&gt;</th><th scope=col>&lt;dbl&gt;</th><th scope=col>&lt;chr&gt;</th></tr>\n",
              "</thead>\n",
              "<tbody>\n",
              "\t<tr><th scope=row>1</th><td>1</td><td>32.0</td><td> 1232</td><td>140230</td><td>0</td><td>1106.640</td><td>usa</td></tr>\n",
              "\t<tr><th scope=row>4</th><td>3</td><td>34.5</td><td>13023</td><td> 56000</td><td>1</td><td>1760.563</td><td>usa</td></tr>\n",
              "\t<tr><th scope=row>7</th><td>6</td><td>53.0</td><td>  143</td><td>261000</td><td>0</td><td>1224.346</td><td>mex</td></tr>\n",
              "\t<tr><th scope=row>8</th><td>7</td><td>53.0</td><td>  143</td><td>261000</td><td>0</td><td>1214.286</td><td>mex</td></tr>\n",
              "</tbody>\n",
              "</table>\n"
            ],
            "text/latex": [
              "A data.frame: 4 x 7\n",
              "\\begin{tabular}{r|lllllll}\n",
              "  & customer\\_id & age\\_years & account\\_balance\\_usd & yearly\\_income\\_usd & is\\_house\\_owner & housing\\_payment\\_usd & country\\_of\\_origin\\\\\n",
              "  & <dbl> & <dbl> & <dbl> & <dbl> & <dbl> & <dbl> & <chr>\\\\\n",
              "\\hline\n",
              "\t1 & 1 & 32.0 &  1232 & 140230 & 0 & 1106.640 & usa\\\\\n",
              "\t4 & 3 & 34.5 & 13023 &  56000 & 1 & 1760.563 & usa\\\\\n",
              "\t7 & 6 & 53.0 &   143 & 261000 & 0 & 1224.346 & mex\\\\\n",
              "\t8 & 7 & 53.0 &   143 & 261000 & 0 & 1214.286 & mex\\\\\n",
              "\\end{tabular}\n"
            ],
            "text/markdown": [
              "\n",
              "A data.frame: 4 x 7\n",
              "\n",
              "| <!--/--> | customer_id &lt;dbl&gt; | age_years &lt;dbl&gt; | account_balance_usd &lt;dbl&gt; | yearly_income_usd &lt;dbl&gt; | is_house_owner &lt;dbl&gt; | housing_payment_usd &lt;dbl&gt; | country_of_origin &lt;chr&gt; |\n",
              "|---|---|---|---|---|---|---|---|\n",
              "| 1 | 1 | 32.0 |  1232 | 140230 | 0 | 1106.640 | usa |\n",
              "| 4 | 3 | 34.5 | 13023 |  56000 | 1 | 1760.563 | usa |\n",
              "| 7 | 6 | 53.0 |   143 | 261000 | 0 | 1224.346 | mex |\n",
              "| 8 | 7 | 53.0 |   143 | 261000 | 0 | 1214.286 | mex |\n",
              "\n"
            ],
            "text/plain": [
              "  customer_id age_years account_balance_usd yearly_income_usd is_house_owner\n",
              "1 1           32.0       1232               140230            0             \n",
              "4 3           34.5      13023                56000            1             \n",
              "7 6           53.0        143               261000            0             \n",
              "8 7           53.0        143               261000            0             \n",
              "  housing_payment_usd country_of_origin\n",
              "1 1106.640            usa              \n",
              "4 1760.563            usa              \n",
              "7 1224.346            mex              \n",
              "8 1214.286            mex              "
            ]
          },
          "metadata": {},
          "output_type": "display_data"
        }
      ],
      "source": [
        "# INSERT CODE TO REMOVE ROWS WITH DUPLICATES IN \"customer_id\" (KEEP THE FIRST VALUE ENCOUNTERS)\n",
        "df = df[duplicated(df$customer_id)==FALSE,]\n",
        "\n",
        "# PRINT THE DATAFRAME\n",
        "df"
      ]
    },
    {
      "cell_type": "markdown",
      "metadata": {},
      "source": [
        "### Normalization \n",
        "\n",
        "Normalization of a vector is the process of making the vector have a unit length (i.e. $|\\mathbf{v}|=1$)\n",
        "\n",
        "$\\mathbf{v}_{norm}=\\frac{\\mathbf{v}}{|\\mathbf{v}|}$\n",
        "\n",
        "We can do a similar thing with a vector of data (e.g. h=heights with units ft). \n",
        "\n",
        "This is done using the following normalization process \n",
        "\n",
        "$\\mathbf{h}_{norm}=\\frac{\\mathbf{h}-\\mu_h}{\\sigma_h}$\n",
        "\n",
        "Where $\\mu_h, \\sigma_h$ are the mean (center) and standard deviation (width) of the height distribution.\n",
        "\n",
        "This process makes a new vector $\\mathbf{h}_{norm}$ which is a dimensionless quanity, meaning that it doesn't have units. \n",
        "\n",
        "The units cancel in the division arising during the normalization equation. \n",
        "\n",
        "This also forces the data into a standard range of roughly [-3 to 3] while still preserving the \"shape\" of the data.\n",
        "\n",
        "Often, when training machine learning models, it is important to normalize the data first. \n",
        "\n",
        "The model will have a much easier time \"fitting\" if every input is in a standard range of [-3 to 3]\n",
        "\n",
        "You can always \"un-do\" the normalization and re-assign the units by algebraically re-arranging the formula.\n",
        "\n",
        "$\\mathbf{h}=\\mathbf{h}_{norm} \\sigma_h+\\mu_h$"
      ]
    },
    {
      "cell_type": "code",
      "execution_count": 26,
      "metadata": {
        "vscode": {
          "languageId": "r"
        }
      },
      "outputs": [
        {
          "data": {
            "text/html": [
              "<table class=\"dataframe\">\n",
              "<caption>A data.frame: 4 x 7</caption>\n",
              "<thead>\n",
              "\t<tr><th></th><th scope=col>customer_id</th><th scope=col>num_children</th><th scope=col>is_house_owner</th><th scope=col>yearly_income_usd</th><th scope=col>is_house_owner</th><th scope=col>housing_payment_normalized</th><th scope=col>country_of_origin</th></tr>\n",
              "\t<tr><th></th><th scope=col>&lt;dbl&gt;</th><th scope=col>&lt;dbl&gt;</th><th scope=col>&lt;dbl&gt;</th><th scope=col>&lt;dbl&gt;</th><th scope=col>&lt;dbl&gt;</th><th scope=col>&lt;dbl&gt;</th><th scope=col>&lt;chr&gt;</th></tr>\n",
              "</thead>\n",
              "<tbody>\n",
              "\t<tr><th scope=row>1</th><td>1</td><td>32.0</td><td> 1232</td><td>140230</td><td>0</td><td>-0.7470082</td><td>usa</td></tr>\n",
              "\t<tr><th scope=row>4</th><td>3</td><td>34.5</td><td>13023</td><td> 56000</td><td>1</td><td> 1.4752130</td><td>usa</td></tr>\n",
              "\t<tr><th scope=row>7</th><td>6</td><td>53.0</td><td>  143</td><td>261000</td><td>0</td><td>-0.3470084</td><td>mex</td></tr>\n",
              "\t<tr><th scope=row>8</th><td>7</td><td>53.0</td><td>  143</td><td>261000</td><td>0</td><td>-0.3811964</td><td>mex</td></tr>\n",
              "</tbody>\n",
              "</table>\n"
            ],
            "text/latex": [
              "A data.frame: 4 x 7\n",
              "\\begin{tabular}{r|lllllll}\n",
              "  & customer\\_id & num\\_children & is\\_house\\_owner & yearly\\_income\\_usd & is\\_house\\_owner & housing\\_payment\\_normalized & country\\_of\\_origin\\\\\n",
              "  & <dbl> & <dbl> & <dbl> & <dbl> & <dbl> & <dbl> & <chr>\\\\\n",
              "\\hline\n",
              "\t1 & 1 & 32.0 &  1232 & 140230 & 0 & -0.7470082 & usa\\\\\n",
              "\t4 & 3 & 34.5 & 13023 &  56000 & 1 &  1.4752130 & usa\\\\\n",
              "\t7 & 6 & 53.0 &   143 & 261000 & 0 & -0.3470084 & mex\\\\\n",
              "\t8 & 7 & 53.0 &   143 & 261000 & 0 & -0.3811964 & mex\\\\\n",
              "\\end{tabular}\n"
            ],
            "text/markdown": [
              "\n",
              "A data.frame: 4 x 7\n",
              "\n",
              "| <!--/--> | customer_id &lt;dbl&gt; | num_children &lt;dbl&gt; | is_house_owner &lt;dbl&gt; | yearly_income_usd &lt;dbl&gt; | is_house_owner &lt;dbl&gt; | housing_payment_normalized &lt;dbl&gt; | country_of_origin &lt;chr&gt; |\n",
              "|---|---|---|---|---|---|---|---|\n",
              "| 1 | 1 | 32.0 |  1232 | 140230 | 0 | -0.7470082 | usa |\n",
              "| 4 | 3 | 34.5 | 13023 |  56000 | 1 |  1.4752130 | usa |\n",
              "| 7 | 6 | 53.0 |   143 | 261000 | 0 | -0.3470084 | mex |\n",
              "| 8 | 7 | 53.0 |   143 | 261000 | 0 | -0.3811964 | mex |\n",
              "\n"
            ],
            "text/plain": [
              "  customer_id num_children is_house_owner yearly_income_usd is_house_owner\n",
              "1 1           32.0          1232          140230            0             \n",
              "4 3           34.5         13023           56000            1             \n",
              "7 6           53.0           143          261000            0             \n",
              "8 7           53.0           143          261000            0             \n",
              "  housing_payment_normalized country_of_origin\n",
              "1 -0.7470082                 usa              \n",
              "4  1.4752130                 usa              \n",
              "7 -0.3470084                 mex              \n",
              "8 -0.3811964                 mex              "
            ]
          },
          "metadata": {},
          "output_type": "display_data"
        }
      ],
      "source": [
        "# INSERT CODE TO NORMALIZE THE COLUMN \"housing_payment_usd\" \n",
        "df$housing_payment_usd = (df$housing_payment_usd - mean(df$housing_payment_usd))/sd(df$housing_payment_usd)\n",
        "\n",
        "# INSERT CODE TO RENAME THE COLUMN \"housing_payment_usd\" --> \"housing_payment_normalized\"\n",
        "colnames(df) = c('customer_id','num_children','is_house_owner','yearly_income_usd','is_house_owner','housing_payment_normalized','country_of_origin')\n",
        "\n",
        "# PRINT THE DATA FRAME\n",
        "df"
      ]
    }
  ],
  "metadata": {
    "kernelspec": {
      "display_name": "R",
      "language": "R",
      "name": "ir"
    },
    "language_info": {
      "codemirror_mode": "r",
      "file_extension": ".r",
      "mimetype": "text/x-r-source",
      "name": "R",
      "pygments_lexer": "r",
      "version": "4.3.1"
    }
  },
  "nbformat": 4,
  "nbformat_minor": 4
}
