{
 "cells": [
  {
   "cell_type": "code",
   "execution_count": 16,
   "metadata": {
    "vscode": {
     "languageId": "r"
    }
   },
   "outputs": [],
   "source": [
    "library(tidyverse)\n",
    "library(reshape2)\n"
   ]
  },
  {
   "cell_type": "code",
   "execution_count": 17,
   "metadata": {
    "vscode": {
     "languageId": "r"
    }
   },
   "outputs": [],
   "source": [
    "# Load the data from the CSV file\n",
    "df = read.csv(\"../data/loans.csv\")\n",
    "\n",
    "# Drop columns \"id\", \"date\", \"amount\", and \"payments\"\n",
    "df_melted <- df[, !(names(df) %in% c(\"id\", \"date\", \"amount\", \"payments\"))]\n",
    "\n"
   ]
  },
  {
   "cell_type": "code",
   "execution_count": 18,
   "metadata": {
    "vscode": {
     "languageId": "r"
    }
   },
   "outputs": [],
   "source": [
    "# Melt the DataFrame\n",
    "df_melted <- melt(df_melted, id.vars = \"account_id\")\n"
   ]
  },
  {
   "cell_type": "code",
   "execution_count": 19,
   "metadata": {
    "vscode": {
     "languageId": "r"
    }
   },
   "outputs": [],
   "source": [
    "# Find and drop rows with \"-\" in the \"value\" column\n",
    "na_indices <- which(df_melted$value == \"-\")\n",
    "df_melted <- df_melted[-na_indices, ]\n",
    "df_melted$variable <- str_replace(df_melted$variable, 'X', '')"
   ]
  },
  {
   "cell_type": "code",
   "execution_count": 20,
   "metadata": {
    "vscode": {
     "languageId": "r"
    }
   },
   "outputs": [],
   "source": [
    "# Split the \"variable\" column into \"month\" and \"status\"\n",
    "a <- strsplit(as.character(df_melted$variable), \"_\")\n",
    "term <- sapply(a, function(x) x[1])\n",
    "status <- sapply(a, function(x) x[2])\n",
    "df_melted$term <- term\n",
    "df_melted$status <- status"
   ]
  },
  {
   "cell_type": "code",
   "execution_count": 21,
   "metadata": {
    "vscode": {
     "languageId": "r"
    }
   },
   "outputs": [],
   "source": [
    "# Drop \"variable\" and \"value\" columns\n",
    "df_melted <- df_melted[, !(names(df_melted) %in% c(\"variable\", \"value\"))]"
   ]
  },
  {
   "cell_type": "code",
   "execution_count": 22,
   "metadata": {
    "vscode": {
     "languageId": "r"
    }
   },
   "outputs": [
    {
     "data": {
      "text/html": [
       "<table class=\"dataframe\">\n",
       "<caption>A data.frame: 6 x 3</caption>\n",
       "<thead>\n",
       "\t<tr><th></th><th scope=col>account_id</th><th scope=col>term</th><th scope=col>status</th></tr>\n",
       "\t<tr><th></th><th scope=col>&lt;int&gt;</th><th scope=col>&lt;chr&gt;</th><th scope=col>&lt;chr&gt;</th></tr>\n",
       "</thead>\n",
       "<tbody>\n",
       "\t<tr><th scope=row>1</th><td>   2</td><td>24</td><td>A</td></tr>\n",
       "\t<tr><th scope=row>6</th><td>  67</td><td>24</td><td>A</td></tr>\n",
       "\t<tr><th scope=row>33</th><td> 544</td><td>24</td><td>A</td></tr>\n",
       "\t<tr><th scope=row>42</th><td> 816</td><td>24</td><td>A</td></tr>\n",
       "\t<tr><th scope=row>45</th><td> 846</td><td>24</td><td>A</td></tr>\n",
       "\t<tr><th scope=row>55</th><td>1012</td><td>24</td><td>A</td></tr>\n",
       "</tbody>\n",
       "</table>\n"
      ],
      "text/latex": [
       "A data.frame: 6 x 3\n",
       "\\begin{tabular}{r|lll}\n",
       "  & account\\_id & term & status\\\\\n",
       "  & <int> & <chr> & <chr>\\\\\n",
       "\\hline\n",
       "\t1 &    2 & 24 & A\\\\\n",
       "\t6 &   67 & 24 & A\\\\\n",
       "\t33 &  544 & 24 & A\\\\\n",
       "\t42 &  816 & 24 & A\\\\\n",
       "\t45 &  846 & 24 & A\\\\\n",
       "\t55 & 1012 & 24 & A\\\\\n",
       "\\end{tabular}\n"
      ],
      "text/markdown": [
       "\n",
       "A data.frame: 6 x 3\n",
       "\n",
       "| <!--/--> | account_id &lt;int&gt; | term &lt;chr&gt; | status &lt;chr&gt; |\n",
       "|---|---|---|---|\n",
       "| 1 |    2 | 24 | A |\n",
       "| 6 |   67 | 24 | A |\n",
       "| 33 |  544 | 24 | A |\n",
       "| 42 |  816 | 24 | A |\n",
       "| 45 |  846 | 24 | A |\n",
       "| 55 | 1012 | 24 | A |\n",
       "\n"
      ],
      "text/plain": [
       "   account_id term status\n",
       "1     2       24   A     \n",
       "6    67       24   A     \n",
       "33  544       24   A     \n",
       "42  816       24   A     \n",
       "45  846       24   A     \n",
       "55 1012       24   A     "
      ]
     },
     "metadata": {},
     "output_type": "display_data"
    },
    {
     "data": {
      "text/html": [
       "<table class=\"dataframe\">\n",
       "<caption>A data.frame: 6 x 25</caption>\n",
       "<thead>\n",
       "\t<tr><th></th><th scope=col>id</th><th scope=col>account_id</th><th scope=col>date</th><th scope=col>amount</th><th scope=col>payments</th><th scope=col>X24_A</th><th scope=col>X12_B</th><th scope=col>X12_A</th><th scope=col>X60_D</th><th scope=col>X48_C</th><th scope=col>...</th><th scope=col>X60_C</th><th scope=col>X24_B</th><th scope=col>X48_D</th><th scope=col>X24_D</th><th scope=col>X48_B</th><th scope=col>X36_A</th><th scope=col>X36_B</th><th scope=col>X60_B</th><th scope=col>X12_D</th><th scope=col>X60_A</th></tr>\n",
       "\t<tr><th></th><th scope=col>&lt;int&gt;</th><th scope=col>&lt;int&gt;</th><th scope=col>&lt;chr&gt;</th><th scope=col>&lt;int&gt;</th><th scope=col>&lt;int&gt;</th><th scope=col>&lt;chr&gt;</th><th scope=col>&lt;chr&gt;</th><th scope=col>&lt;chr&gt;</th><th scope=col>&lt;chr&gt;</th><th scope=col>&lt;chr&gt;</th><th scope=col>...</th><th scope=col>&lt;chr&gt;</th><th scope=col>&lt;chr&gt;</th><th scope=col>&lt;chr&gt;</th><th scope=col>&lt;chr&gt;</th><th scope=col>&lt;chr&gt;</th><th scope=col>&lt;chr&gt;</th><th scope=col>&lt;chr&gt;</th><th scope=col>&lt;chr&gt;</th><th scope=col>&lt;chr&gt;</th><th scope=col>&lt;chr&gt;</th></tr>\n",
       "</thead>\n",
       "<tbody>\n",
       "\t<tr><th scope=row>1</th><td>4959</td><td> 2</td><td>1994-01-05</td><td> 80952</td><td>3373</td><td>X</td><td>-</td><td>-</td><td>-</td><td>-</td><td>...</td><td>-</td><td>-</td><td>-</td><td>-</td><td>-</td><td>-</td><td>-</td><td>-</td><td>-</td><td>-</td></tr>\n",
       "\t<tr><th scope=row>2</th><td>4961</td><td>19</td><td>1996-04-29</td><td> 30276</td><td>2523</td><td>-</td><td>X</td><td>-</td><td>-</td><td>-</td><td>...</td><td>-</td><td>-</td><td>-</td><td>-</td><td>-</td><td>-</td><td>-</td><td>-</td><td>-</td><td>-</td></tr>\n",
       "\t<tr><th scope=row>3</th><td>4962</td><td>25</td><td>1997-12-08</td><td> 30276</td><td>2523</td><td>-</td><td>-</td><td>X</td><td>-</td><td>-</td><td>...</td><td>-</td><td>-</td><td>-</td><td>-</td><td>-</td><td>-</td><td>-</td><td>-</td><td>-</td><td>-</td></tr>\n",
       "\t<tr><th scope=row>4</th><td>4967</td><td>37</td><td>1998-10-14</td><td>318480</td><td>5308</td><td>-</td><td>-</td><td>-</td><td>X</td><td>-</td><td>...</td><td>-</td><td>-</td><td>-</td><td>-</td><td>-</td><td>-</td><td>-</td><td>-</td><td>-</td><td>-</td></tr>\n",
       "\t<tr><th scope=row>5</th><td>4968</td><td>38</td><td>1998-04-19</td><td>110736</td><td>2307</td><td>-</td><td>-</td><td>-</td><td>-</td><td>X</td><td>...</td><td>-</td><td>-</td><td>-</td><td>-</td><td>-</td><td>-</td><td>-</td><td>-</td><td>-</td><td>-</td></tr>\n",
       "\t<tr><th scope=row>6</th><td>4973</td><td>67</td><td>1996-05-02</td><td>165960</td><td>6915</td><td>X</td><td>-</td><td>-</td><td>-</td><td>-</td><td>...</td><td>-</td><td>-</td><td>-</td><td>-</td><td>-</td><td>-</td><td>-</td><td>-</td><td>-</td><td>-</td></tr>\n",
       "</tbody>\n",
       "</table>\n"
      ],
      "text/latex": [
       "A data.frame: 6 x 25\n",
       "\\begin{tabular}{r|lllllllllllllllllllll}\n",
       "  & id & account\\_id & date & amount & payments & X24\\_A & X12\\_B & X12\\_A & X60\\_D & X48\\_C & ... & X60\\_C & X24\\_B & X48\\_D & X24\\_D & X48\\_B & X36\\_A & X36\\_B & X60\\_B & X12\\_D & X60\\_A\\\\\n",
       "  & <int> & <int> & <chr> & <int> & <int> & <chr> & <chr> & <chr> & <chr> & <chr> & ... & <chr> & <chr> & <chr> & <chr> & <chr> & <chr> & <chr> & <chr> & <chr> & <chr>\\\\\n",
       "\\hline\n",
       "\t1 & 4959 &  2 & 1994-01-05 &  80952 & 3373 & X & - & - & - & - & ... & - & - & - & - & - & - & - & - & - & -\\\\\n",
       "\t2 & 4961 & 19 & 1996-04-29 &  30276 & 2523 & - & X & - & - & - & ... & - & - & - & - & - & - & - & - & - & -\\\\\n",
       "\t3 & 4962 & 25 & 1997-12-08 &  30276 & 2523 & - & - & X & - & - & ... & - & - & - & - & - & - & - & - & - & -\\\\\n",
       "\t4 & 4967 & 37 & 1998-10-14 & 318480 & 5308 & - & - & - & X & - & ... & - & - & - & - & - & - & - & - & - & -\\\\\n",
       "\t5 & 4968 & 38 & 1998-04-19 & 110736 & 2307 & - & - & - & - & X & ... & - & - & - & - & - & - & - & - & - & -\\\\\n",
       "\t6 & 4973 & 67 & 1996-05-02 & 165960 & 6915 & X & - & - & - & - & ... & - & - & - & - & - & - & - & - & - & -\\\\\n",
       "\\end{tabular}\n"
      ],
      "text/markdown": [
       "\n",
       "A data.frame: 6 x 25\n",
       "\n",
       "| <!--/--> | id &lt;int&gt; | account_id &lt;int&gt; | date &lt;chr&gt; | amount &lt;int&gt; | payments &lt;int&gt; | X24_A &lt;chr&gt; | X12_B &lt;chr&gt; | X12_A &lt;chr&gt; | X60_D &lt;chr&gt; | X48_C &lt;chr&gt; | ... ... | X60_C &lt;chr&gt; | X24_B &lt;chr&gt; | X48_D &lt;chr&gt; | X24_D &lt;chr&gt; | X48_B &lt;chr&gt; | X36_A &lt;chr&gt; | X36_B &lt;chr&gt; | X60_B &lt;chr&gt; | X12_D &lt;chr&gt; | X60_A &lt;chr&gt; |\n",
       "|---|---|---|---|---|---|---|---|---|---|---|---|---|---|---|---|---|---|---|---|---|---|\n",
       "| 1 | 4959 |  2 | 1994-01-05 |  80952 | 3373 | X | - | - | - | - | ... | - | - | - | - | - | - | - | - | - | - |\n",
       "| 2 | 4961 | 19 | 1996-04-29 |  30276 | 2523 | - | X | - | - | - | ... | - | - | - | - | - | - | - | - | - | - |\n",
       "| 3 | 4962 | 25 | 1997-12-08 |  30276 | 2523 | - | - | X | - | - | ... | - | - | - | - | - | - | - | - | - | - |\n",
       "| 4 | 4967 | 37 | 1998-10-14 | 318480 | 5308 | - | - | - | X | - | ... | - | - | - | - | - | - | - | - | - | - |\n",
       "| 5 | 4968 | 38 | 1998-04-19 | 110736 | 2307 | - | - | - | - | X | ... | - | - | - | - | - | - | - | - | - | - |\n",
       "| 6 | 4973 | 67 | 1996-05-02 | 165960 | 6915 | X | - | - | - | - | ... | - | - | - | - | - | - | - | - | - | - |\n",
       "\n"
      ],
      "text/plain": [
       "  id   account_id date       amount payments X24_A X12_B X12_A X60_D X48_C ...\n",
       "1 4959  2         1994-01-05  80952 3373     X     -     -     -     -     ...\n",
       "2 4961 19         1996-04-29  30276 2523     -     X     -     -     -     ...\n",
       "3 4962 25         1997-12-08  30276 2523     -     -     X     -     -     ...\n",
       "4 4967 37         1998-10-14 318480 5308     -     -     -     X     -     ...\n",
       "5 4968 38         1998-04-19 110736 2307     -     -     -     -     X     ...\n",
       "6 4973 67         1996-05-02 165960 6915     X     -     -     -     -     ...\n",
       "  X60_C X24_B X48_D X24_D X48_B X36_A X36_B X60_B X12_D X60_A\n",
       "1 -     -     -     -     -     -     -     -     -     -    \n",
       "2 -     -     -     -     -     -     -     -     -     -    \n",
       "3 -     -     -     -     -     -     -     -     -     -    \n",
       "4 -     -     -     -     -     -     -     -     -     -    \n",
       "5 -     -     -     -     -     -     -     -     -     -    \n",
       "6 -     -     -     -     -     -     -     -     -     -    "
      ]
     },
     "metadata": {},
     "output_type": "display_data"
    }
   ],
   "source": [
    "head(df_melted)\n",
    "head(df)"
   ]
  },
  {
   "cell_type": "code",
   "execution_count": 23,
   "metadata": {
    "vscode": {
     "languageId": "r"
    }
   },
   "outputs": [],
   "source": [
    "# Merge the melted DataFrame with the original DataFrame\n",
    "df <- merge(df, df_melted, by = \"account_id\", all = TRUE)\n",
    "\n"
   ]
  },
  {
   "cell_type": "code",
   "execution_count": 24,
   "metadata": {
    "vscode": {
     "languageId": "r"
    }
   },
   "outputs": [
    {
     "data": {
      "text/html": [
       "<table class=\"dataframe\">\n",
       "<caption>A data.frame: 6 x 27</caption>\n",
       "<thead>\n",
       "\t<tr><th></th><th scope=col>account_id</th><th scope=col>id</th><th scope=col>date</th><th scope=col>amount</th><th scope=col>payments</th><th scope=col>X24_A</th><th scope=col>X12_B</th><th scope=col>X12_A</th><th scope=col>X60_D</th><th scope=col>X48_C</th><th scope=col>...</th><th scope=col>X48_D</th><th scope=col>X24_D</th><th scope=col>X48_B</th><th scope=col>X36_A</th><th scope=col>X36_B</th><th scope=col>X60_B</th><th scope=col>X12_D</th><th scope=col>X60_A</th><th scope=col>term</th><th scope=col>status</th></tr>\n",
       "\t<tr><th></th><th scope=col>&lt;int&gt;</th><th scope=col>&lt;int&gt;</th><th scope=col>&lt;chr&gt;</th><th scope=col>&lt;int&gt;</th><th scope=col>&lt;int&gt;</th><th scope=col>&lt;chr&gt;</th><th scope=col>&lt;chr&gt;</th><th scope=col>&lt;chr&gt;</th><th scope=col>&lt;chr&gt;</th><th scope=col>&lt;chr&gt;</th><th scope=col>...</th><th scope=col>&lt;chr&gt;</th><th scope=col>&lt;chr&gt;</th><th scope=col>&lt;chr&gt;</th><th scope=col>&lt;chr&gt;</th><th scope=col>&lt;chr&gt;</th><th scope=col>&lt;chr&gt;</th><th scope=col>&lt;chr&gt;</th><th scope=col>&lt;chr&gt;</th><th scope=col>&lt;chr&gt;</th><th scope=col>&lt;chr&gt;</th></tr>\n",
       "</thead>\n",
       "<tbody>\n",
       "\t<tr><th scope=row>1</th><td> 2</td><td>4959</td><td>1994-01-05</td><td> 80952</td><td>3373</td><td>X</td><td>-</td><td>-</td><td>-</td><td>-</td><td>...</td><td>-</td><td>-</td><td>-</td><td>-</td><td>-</td><td>-</td><td>-</td><td>-</td><td>24</td><td>A</td></tr>\n",
       "\t<tr><th scope=row>2</th><td>19</td><td>4961</td><td>1996-04-29</td><td> 30276</td><td>2523</td><td>-</td><td>X</td><td>-</td><td>-</td><td>-</td><td>...</td><td>-</td><td>-</td><td>-</td><td>-</td><td>-</td><td>-</td><td>-</td><td>-</td><td>12</td><td>B</td></tr>\n",
       "\t<tr><th scope=row>3</th><td>25</td><td>4962</td><td>1997-12-08</td><td> 30276</td><td>2523</td><td>-</td><td>-</td><td>X</td><td>-</td><td>-</td><td>...</td><td>-</td><td>-</td><td>-</td><td>-</td><td>-</td><td>-</td><td>-</td><td>-</td><td>12</td><td>A</td></tr>\n",
       "\t<tr><th scope=row>4</th><td>37</td><td>4967</td><td>1998-10-14</td><td>318480</td><td>5308</td><td>-</td><td>-</td><td>-</td><td>X</td><td>-</td><td>...</td><td>-</td><td>-</td><td>-</td><td>-</td><td>-</td><td>-</td><td>-</td><td>-</td><td>60</td><td>D</td></tr>\n",
       "\t<tr><th scope=row>5</th><td>38</td><td>4968</td><td>1998-04-19</td><td>110736</td><td>2307</td><td>-</td><td>-</td><td>-</td><td>-</td><td>X</td><td>...</td><td>-</td><td>-</td><td>-</td><td>-</td><td>-</td><td>-</td><td>-</td><td>-</td><td>48</td><td>C</td></tr>\n",
       "\t<tr><th scope=row>6</th><td>67</td><td>4973</td><td>1996-05-02</td><td>165960</td><td>6915</td><td>X</td><td>-</td><td>-</td><td>-</td><td>-</td><td>...</td><td>-</td><td>-</td><td>-</td><td>-</td><td>-</td><td>-</td><td>-</td><td>-</td><td>24</td><td>A</td></tr>\n",
       "</tbody>\n",
       "</table>\n"
      ],
      "text/latex": [
       "A data.frame: 6 x 27\n",
       "\\begin{tabular}{r|lllllllllllllllllllll}\n",
       "  & account\\_id & id & date & amount & payments & X24\\_A & X12\\_B & X12\\_A & X60\\_D & X48\\_C & ... & X48\\_D & X24\\_D & X48\\_B & X36\\_A & X36\\_B & X60\\_B & X12\\_D & X60\\_A & term & status\\\\\n",
       "  & <int> & <int> & <chr> & <int> & <int> & <chr> & <chr> & <chr> & <chr> & <chr> & ... & <chr> & <chr> & <chr> & <chr> & <chr> & <chr> & <chr> & <chr> & <chr> & <chr>\\\\\n",
       "\\hline\n",
       "\t1 &  2 & 4959 & 1994-01-05 &  80952 & 3373 & X & - & - & - & - & ... & - & - & - & - & - & - & - & - & 24 & A\\\\\n",
       "\t2 & 19 & 4961 & 1996-04-29 &  30276 & 2523 & - & X & - & - & - & ... & - & - & - & - & - & - & - & - & 12 & B\\\\\n",
       "\t3 & 25 & 4962 & 1997-12-08 &  30276 & 2523 & - & - & X & - & - & ... & - & - & - & - & - & - & - & - & 12 & A\\\\\n",
       "\t4 & 37 & 4967 & 1998-10-14 & 318480 & 5308 & - & - & - & X & - & ... & - & - & - & - & - & - & - & - & 60 & D\\\\\n",
       "\t5 & 38 & 4968 & 1998-04-19 & 110736 & 2307 & - & - & - & - & X & ... & - & - & - & - & - & - & - & - & 48 & C\\\\\n",
       "\t6 & 67 & 4973 & 1996-05-02 & 165960 & 6915 & X & - & - & - & - & ... & - & - & - & - & - & - & - & - & 24 & A\\\\\n",
       "\\end{tabular}\n"
      ],
      "text/markdown": [
       "\n",
       "A data.frame: 6 x 27\n",
       "\n",
       "| <!--/--> | account_id &lt;int&gt; | id &lt;int&gt; | date &lt;chr&gt; | amount &lt;int&gt; | payments &lt;int&gt; | X24_A &lt;chr&gt; | X12_B &lt;chr&gt; | X12_A &lt;chr&gt; | X60_D &lt;chr&gt; | X48_C &lt;chr&gt; | ... ... | X48_D &lt;chr&gt; | X24_D &lt;chr&gt; | X48_B &lt;chr&gt; | X36_A &lt;chr&gt; | X36_B &lt;chr&gt; | X60_B &lt;chr&gt; | X12_D &lt;chr&gt; | X60_A &lt;chr&gt; | term &lt;chr&gt; | status &lt;chr&gt; |\n",
       "|---|---|---|---|---|---|---|---|---|---|---|---|---|---|---|---|---|---|---|---|---|---|\n",
       "| 1 |  2 | 4959 | 1994-01-05 |  80952 | 3373 | X | - | - | - | - | ... | - | - | - | - | - | - | - | - | 24 | A |\n",
       "| 2 | 19 | 4961 | 1996-04-29 |  30276 | 2523 | - | X | - | - | - | ... | - | - | - | - | - | - | - | - | 12 | B |\n",
       "| 3 | 25 | 4962 | 1997-12-08 |  30276 | 2523 | - | - | X | - | - | ... | - | - | - | - | - | - | - | - | 12 | A |\n",
       "| 4 | 37 | 4967 | 1998-10-14 | 318480 | 5308 | - | - | - | X | - | ... | - | - | - | - | - | - | - | - | 60 | D |\n",
       "| 5 | 38 | 4968 | 1998-04-19 | 110736 | 2307 | - | - | - | - | X | ... | - | - | - | - | - | - | - | - | 48 | C |\n",
       "| 6 | 67 | 4973 | 1996-05-02 | 165960 | 6915 | X | - | - | - | - | ... | - | - | - | - | - | - | - | - | 24 | A |\n",
       "\n"
      ],
      "text/plain": [
       "  account_id id   date       amount payments X24_A X12_B X12_A X60_D X48_C ...\n",
       "1  2         4959 1994-01-05  80952 3373     X     -     -     -     -     ...\n",
       "2 19         4961 1996-04-29  30276 2523     -     X     -     -     -     ...\n",
       "3 25         4962 1997-12-08  30276 2523     -     -     X     -     -     ...\n",
       "4 37         4967 1998-10-14 318480 5308     -     -     -     X     -     ...\n",
       "5 38         4968 1998-04-19 110736 2307     -     -     -     -     X     ...\n",
       "6 67         4973 1996-05-02 165960 6915     X     -     -     -     -     ...\n",
       "  X48_D X24_D X48_B X36_A X36_B X60_B X12_D X60_A term status\n",
       "1 -     -     -     -     -     -     -     -     24   A     \n",
       "2 -     -     -     -     -     -     -     -     12   B     \n",
       "3 -     -     -     -     -     -     -     -     12   A     \n",
       "4 -     -     -     -     -     -     -     -     60   D     \n",
       "5 -     -     -     -     -     -     -     -     48   C     \n",
       "6 -     -     -     -     -     -     -     -     24   A     "
      ]
     },
     "metadata": {},
     "output_type": "display_data"
    }
   ],
   "source": [
    "head(df)"
   ]
  },
  {
   "cell_type": "code",
   "execution_count": 25,
   "metadata": {
    "vscode": {
     "languageId": "r"
    }
   },
   "outputs": [],
   "source": [
    "# Drop rows with missing values\n",
    "df <- na.omit(df)\n",
    "\n",
    "# Drop specified columns by column index\n",
    "df <- df[, -c(6:25)]"
   ]
  },
  {
   "cell_type": "code",
   "execution_count": 26,
   "metadata": {
    "vscode": {
     "languageId": "r"
    }
   },
   "outputs": [
    {
     "data": {
      "text/html": [
       "<table class=\"dataframe\">\n",
       "<caption>A data.frame: 682 x 7</caption>\n",
       "<thead>\n",
       "\t<tr><th></th><th scope=col>account_id</th><th scope=col>id</th><th scope=col>date</th><th scope=col>amount</th><th scope=col>payments</th><th scope=col>term</th><th scope=col>status</th></tr>\n",
       "\t<tr><th></th><th scope=col>&lt;int&gt;</th><th scope=col>&lt;int&gt;</th><th scope=col>&lt;chr&gt;</th><th scope=col>&lt;int&gt;</th><th scope=col>&lt;int&gt;</th><th scope=col>&lt;chr&gt;</th><th scope=col>&lt;chr&gt;</th></tr>\n",
       "</thead>\n",
       "<tbody>\n",
       "\t<tr><th scope=row>1</th><td>  2</td><td>4959</td><td>1994-01-05</td><td> 80952</td><td>3373</td><td>24</td><td>A</td></tr>\n",
       "\t<tr><th scope=row>2</th><td> 19</td><td>4961</td><td>1996-04-29</td><td> 30276</td><td>2523</td><td>12</td><td>B</td></tr>\n",
       "\t<tr><th scope=row>3</th><td> 25</td><td>4962</td><td>1997-12-08</td><td> 30276</td><td>2523</td><td>12</td><td>A</td></tr>\n",
       "\t<tr><th scope=row>4</th><td> 37</td><td>4967</td><td>1998-10-14</td><td>318480</td><td>5308</td><td>60</td><td>D</td></tr>\n",
       "\t<tr><th scope=row>5</th><td> 38</td><td>4968</td><td>1998-04-19</td><td>110736</td><td>2307</td><td>48</td><td>C</td></tr>\n",
       "\t<tr><th scope=row>6</th><td> 67</td><td>4973</td><td>1996-05-02</td><td>165960</td><td>6915</td><td>24</td><td>A</td></tr>\n",
       "\t<tr><th scope=row>7</th><td> 97</td><td>4986</td><td>1997-08-10</td><td>102876</td><td>8573</td><td>12</td><td>A</td></tr>\n",
       "\t<tr><th scope=row>8</th><td>103</td><td>4988</td><td>1997-12-06</td><td>265320</td><td>7370</td><td>36</td><td>D</td></tr>\n",
       "\t<tr><th scope=row>9</th><td>105</td><td>4989</td><td>1998-12-05</td><td>352704</td><td>7348</td><td>48</td><td>C</td></tr>\n",
       "\t<tr><th scope=row>10</th><td>110</td><td>4990</td><td>1997-09-08</td><td>162576</td><td>4516</td><td>36</td><td>C</td></tr>\n",
       "\t<tr><th scope=row>11</th><td>132</td><td>4996</td><td>1996-11-06</td><td> 88440</td><td>7370</td><td>12</td><td>A</td></tr>\n",
       "\t<tr><th scope=row>12</th><td>173</td><td>5002</td><td>1994-05-31</td><td>104808</td><td>8734</td><td>12</td><td>A</td></tr>\n",
       "\t<tr><th scope=row>13</th><td>176</td><td>5005</td><td>1997-04-10</td><td> 27456</td><td>2288</td><td>12</td><td>A</td></tr>\n",
       "\t<tr><th scope=row>14</th><td>226</td><td>5015</td><td>1998-07-12</td><td>109344</td><td>9112</td><td>12</td><td>C</td></tr>\n",
       "\t<tr><th scope=row>15</th><td>276</td><td>5027</td><td>1998-12-02</td><td>160920</td><td>4470</td><td>36</td><td>C</td></tr>\n",
       "\t<tr><th scope=row>16</th><td>290</td><td>5032</td><td>1994-11-03</td><td>123696</td><td>2577</td><td>48</td><td>A</td></tr>\n",
       "\t<tr><th scope=row>17</th><td>303</td><td>5034</td><td>1998-05-30</td><td>112752</td><td>3132</td><td>36</td><td>C</td></tr>\n",
       "\t<tr><th scope=row>18</th><td>309</td><td>5036</td><td>1998-11-25</td><td> 91248</td><td>1901</td><td>48</td><td>C</td></tr>\n",
       "\t<tr><th scope=row>19</th><td>314</td><td>5039</td><td>1997-05-03</td><td> 66840</td><td>2785</td><td>24</td><td>C</td></tr>\n",
       "\t<tr><th scope=row>20</th><td>319</td><td>5041</td><td>1997-07-11</td><td>369000</td><td>6150</td><td>60</td><td>C</td></tr>\n",
       "\t<tr><th scope=row>21</th><td>330</td><td>5042</td><td>1998-07-12</td><td>331584</td><td>6908</td><td>48</td><td>C</td></tr>\n",
       "\t<tr><th scope=row>22</th><td>339</td><td>5043</td><td>1997-12-25</td><td>468060</td><td>7801</td><td>60</td><td>C</td></tr>\n",
       "\t<tr><th scope=row>23</th><td>344</td><td>5044</td><td>1994-12-21</td><td>100980</td><td>1683</td><td>60</td><td>C</td></tr>\n",
       "\t<tr><th scope=row>24</th><td>347</td><td>5045</td><td>1995-05-01</td><td>187224</td><td>7801</td><td>24</td><td>B</td></tr>\n",
       "\t<tr><th scope=row>25</th><td>349</td><td>5046</td><td>1998-09-09</td><td> 42816</td><td>3568</td><td>12</td><td>C</td></tr>\n",
       "\t<tr><th scope=row>26</th><td>378</td><td>5051</td><td>1997-10-11</td><td>230400</td><td>3840</td><td>60</td><td>C</td></tr>\n",
       "\t<tr><th scope=row>27</th><td>426</td><td>5060</td><td>1994-07-19</td><td>252060</td><td>4201</td><td>60</td><td>D</td></tr>\n",
       "\t<tr><th scope=row>28</th><td>440</td><td>5061</td><td>1998-03-13</td><td> 84288</td><td>1756</td><td>48</td><td>C</td></tr>\n",
       "\t<tr><th scope=row>29</th><td>442</td><td>5063</td><td>1997-07-10</td><td>357840</td><td>7455</td><td>48</td><td>D</td></tr>\n",
       "\t<tr><th scope=row>30</th><td>472</td><td>5072</td><td>1997-04-28</td><td>196800</td><td>8200</td><td>24</td><td>D</td></tr>\n",
       "\t<tr><th scope=row>...</th><td>...</td><td>...</td><td>...</td><td>...</td><td>...</td><td>...</td><td>...</td></tr>\n",
       "\t<tr><th scope=row>653</th><td>10915</td><td>7221</td><td>1998-06-11</td><td>152460</td><td>2541</td><td>60</td><td>C</td></tr>\n",
       "\t<tr><th scope=row>654</th><td>10940</td><td>7226</td><td>1994-02-23</td><td>197748</td><td>5493</td><td>36</td><td>A</td></tr>\n",
       "\t<tr><th scope=row>655</th><td>10942</td><td>7227</td><td>1995-10-02</td><td>314520</td><td>5242</td><td>60</td><td>C</td></tr>\n",
       "\t<tr><th scope=row>656</th><td>10954</td><td>7230</td><td>1997-04-02</td><td> 18720</td><td> 312</td><td>60</td><td>C</td></tr>\n",
       "\t<tr><th scope=row>657</th><td>10963</td><td>7233</td><td>1996-12-25</td><td>115812</td><td>3217</td><td>36</td><td>C</td></tr>\n",
       "\t<tr><th scope=row>658</th><td>10973</td><td>7235</td><td>1993-10-13</td><td>154416</td><td>3217</td><td>48</td><td>A</td></tr>\n",
       "\t<tr><th scope=row>659</th><td>11013</td><td>7240</td><td>1993-09-06</td><td>274740</td><td>4579</td><td>60</td><td>A</td></tr>\n",
       "\t<tr><th scope=row>660</th><td>11021</td><td>7241</td><td>1995-03-04</td><td>168984</td><td>7041</td><td>24</td><td>B</td></tr>\n",
       "\t<tr><th scope=row>661</th><td>11027</td><td>7242</td><td>1997-10-23</td><td> 48096</td><td>2004</td><td>24</td><td>C</td></tr>\n",
       "\t<tr><th scope=row>662</th><td>11042</td><td>7243</td><td>1995-12-04</td><td>217152</td><td>6032</td><td>36</td><td>A</td></tr>\n",
       "\t<tr><th scope=row>663</th><td>11054</td><td>7246</td><td>1996-08-20</td><td>148920</td><td>2482</td><td>60</td><td>C</td></tr>\n",
       "\t<tr><th scope=row>664</th><td>11065</td><td>7249</td><td>1994-06-12</td><td> 69360</td><td>1445</td><td>48</td><td>A</td></tr>\n",
       "\t<tr><th scope=row>665</th><td>11069</td><td>7250</td><td>1997-03-04</td><td>119136</td><td>2482</td><td>48</td><td>C</td></tr>\n",
       "\t<tr><th scope=row>666</th><td>11079</td><td>7253</td><td>1997-04-26</td><td> 98304</td><td>8192</td><td>12</td><td>A</td></tr>\n",
       "\t<tr><th scope=row>667</th><td>11096</td><td>7255</td><td>1997-06-09</td><td>213300</td><td>3555</td><td>60</td><td>C</td></tr>\n",
       "\t<tr><th scope=row>668</th><td>11111</td><td>7259</td><td>1994-01-31</td><td>108144</td><td>3004</td><td>36</td><td>A</td></tr>\n",
       "\t<tr><th scope=row>669</th><td>11135</td><td>7262</td><td>1994-03-01</td><td>182628</td><td>5073</td><td>36</td><td>A</td></tr>\n",
       "\t<tr><th scope=row>670</th><td>11138</td><td>7263</td><td>1996-01-19</td><td> 89880</td><td>3745</td><td>24</td><td>A</td></tr>\n",
       "\t<tr><th scope=row>671</th><td>11141</td><td>7264</td><td>1997-10-07</td><td> 44940</td><td>3745</td><td>12</td><td>A</td></tr>\n",
       "\t<tr><th scope=row>672</th><td>11186</td><td>7271</td><td>1996-10-02</td><td>392460</td><td>6541</td><td>60</td><td>C</td></tr>\n",
       "\t<tr><th scope=row>673</th><td>11231</td><td>7277</td><td>1997-10-24</td><td> 89280</td><td>7440</td><td>12</td><td>A</td></tr>\n",
       "\t<tr><th scope=row>674</th><td>11244</td><td>7279</td><td>1997-12-11</td><td>155760</td><td>6490</td><td>24</td><td>C</td></tr>\n",
       "\t<tr><th scope=row>675</th><td>11265</td><td>7284</td><td>1993-09-15</td><td> 52788</td><td>4399</td><td>12</td><td>A</td></tr>\n",
       "\t<tr><th scope=row>676</th><td>11271</td><td>7286</td><td>1997-01-31</td><td> 67320</td><td>1870</td><td>36</td><td>C</td></tr>\n",
       "\t<tr><th scope=row>677</th><td>11317</td><td>7292</td><td>1998-11-22</td><td>317460</td><td>5291</td><td>60</td><td>C</td></tr>\n",
       "\t<tr><th scope=row>678</th><td>11327</td><td>7294</td><td>1998-09-27</td><td> 39168</td><td>1632</td><td>24</td><td>C</td></tr>\n",
       "\t<tr><th scope=row>679</th><td>11328</td><td>7295</td><td>1998-07-18</td><td>280440</td><td>4674</td><td>60</td><td>C</td></tr>\n",
       "\t<tr><th scope=row>680</th><td>11349</td><td>7304</td><td>1995-10-29</td><td>419880</td><td>6998</td><td>60</td><td>C</td></tr>\n",
       "\t<tr><th scope=row>681</th><td>11359</td><td>7305</td><td>1996-08-06</td><td> 54024</td><td>4502</td><td>12</td><td>A</td></tr>\n",
       "\t<tr><th scope=row>682</th><td>11362</td><td>7308</td><td>1996-12-27</td><td>129408</td><td>5392</td><td>24</td><td>A</td></tr>\n",
       "</tbody>\n",
       "</table>\n"
      ],
      "text/latex": [
       "A data.frame: 682 x 7\n",
       "\\begin{tabular}{r|lllllll}\n",
       "  & account\\_id & id & date & amount & payments & term & status\\\\\n",
       "  & <int> & <int> & <chr> & <int> & <int> & <chr> & <chr>\\\\\n",
       "\\hline\n",
       "\t1 &   2 & 4959 & 1994-01-05 &  80952 & 3373 & 24 & A\\\\\n",
       "\t2 &  19 & 4961 & 1996-04-29 &  30276 & 2523 & 12 & B\\\\\n",
       "\t3 &  25 & 4962 & 1997-12-08 &  30276 & 2523 & 12 & A\\\\\n",
       "\t4 &  37 & 4967 & 1998-10-14 & 318480 & 5308 & 60 & D\\\\\n",
       "\t5 &  38 & 4968 & 1998-04-19 & 110736 & 2307 & 48 & C\\\\\n",
       "\t6 &  67 & 4973 & 1996-05-02 & 165960 & 6915 & 24 & A\\\\\n",
       "\t7 &  97 & 4986 & 1997-08-10 & 102876 & 8573 & 12 & A\\\\\n",
       "\t8 & 103 & 4988 & 1997-12-06 & 265320 & 7370 & 36 & D\\\\\n",
       "\t9 & 105 & 4989 & 1998-12-05 & 352704 & 7348 & 48 & C\\\\\n",
       "\t10 & 110 & 4990 & 1997-09-08 & 162576 & 4516 & 36 & C\\\\\n",
       "\t11 & 132 & 4996 & 1996-11-06 &  88440 & 7370 & 12 & A\\\\\n",
       "\t12 & 173 & 5002 & 1994-05-31 & 104808 & 8734 & 12 & A\\\\\n",
       "\t13 & 176 & 5005 & 1997-04-10 &  27456 & 2288 & 12 & A\\\\\n",
       "\t14 & 226 & 5015 & 1998-07-12 & 109344 & 9112 & 12 & C\\\\\n",
       "\t15 & 276 & 5027 & 1998-12-02 & 160920 & 4470 & 36 & C\\\\\n",
       "\t16 & 290 & 5032 & 1994-11-03 & 123696 & 2577 & 48 & A\\\\\n",
       "\t17 & 303 & 5034 & 1998-05-30 & 112752 & 3132 & 36 & C\\\\\n",
       "\t18 & 309 & 5036 & 1998-11-25 &  91248 & 1901 & 48 & C\\\\\n",
       "\t19 & 314 & 5039 & 1997-05-03 &  66840 & 2785 & 24 & C\\\\\n",
       "\t20 & 319 & 5041 & 1997-07-11 & 369000 & 6150 & 60 & C\\\\\n",
       "\t21 & 330 & 5042 & 1998-07-12 & 331584 & 6908 & 48 & C\\\\\n",
       "\t22 & 339 & 5043 & 1997-12-25 & 468060 & 7801 & 60 & C\\\\\n",
       "\t23 & 344 & 5044 & 1994-12-21 & 100980 & 1683 & 60 & C\\\\\n",
       "\t24 & 347 & 5045 & 1995-05-01 & 187224 & 7801 & 24 & B\\\\\n",
       "\t25 & 349 & 5046 & 1998-09-09 &  42816 & 3568 & 12 & C\\\\\n",
       "\t26 & 378 & 5051 & 1997-10-11 & 230400 & 3840 & 60 & C\\\\\n",
       "\t27 & 426 & 5060 & 1994-07-19 & 252060 & 4201 & 60 & D\\\\\n",
       "\t28 & 440 & 5061 & 1998-03-13 &  84288 & 1756 & 48 & C\\\\\n",
       "\t29 & 442 & 5063 & 1997-07-10 & 357840 & 7455 & 48 & D\\\\\n",
       "\t30 & 472 & 5072 & 1997-04-28 & 196800 & 8200 & 24 & D\\\\\n",
       "\t... & ... & ... & ... & ... & ... & ... & ...\\\\\n",
       "\t653 & 10915 & 7221 & 1998-06-11 & 152460 & 2541 & 60 & C\\\\\n",
       "\t654 & 10940 & 7226 & 1994-02-23 & 197748 & 5493 & 36 & A\\\\\n",
       "\t655 & 10942 & 7227 & 1995-10-02 & 314520 & 5242 & 60 & C\\\\\n",
       "\t656 & 10954 & 7230 & 1997-04-02 &  18720 &  312 & 60 & C\\\\\n",
       "\t657 & 10963 & 7233 & 1996-12-25 & 115812 & 3217 & 36 & C\\\\\n",
       "\t658 & 10973 & 7235 & 1993-10-13 & 154416 & 3217 & 48 & A\\\\\n",
       "\t659 & 11013 & 7240 & 1993-09-06 & 274740 & 4579 & 60 & A\\\\\n",
       "\t660 & 11021 & 7241 & 1995-03-04 & 168984 & 7041 & 24 & B\\\\\n",
       "\t661 & 11027 & 7242 & 1997-10-23 &  48096 & 2004 & 24 & C\\\\\n",
       "\t662 & 11042 & 7243 & 1995-12-04 & 217152 & 6032 & 36 & A\\\\\n",
       "\t663 & 11054 & 7246 & 1996-08-20 & 148920 & 2482 & 60 & C\\\\\n",
       "\t664 & 11065 & 7249 & 1994-06-12 &  69360 & 1445 & 48 & A\\\\\n",
       "\t665 & 11069 & 7250 & 1997-03-04 & 119136 & 2482 & 48 & C\\\\\n",
       "\t666 & 11079 & 7253 & 1997-04-26 &  98304 & 8192 & 12 & A\\\\\n",
       "\t667 & 11096 & 7255 & 1997-06-09 & 213300 & 3555 & 60 & C\\\\\n",
       "\t668 & 11111 & 7259 & 1994-01-31 & 108144 & 3004 & 36 & A\\\\\n",
       "\t669 & 11135 & 7262 & 1994-03-01 & 182628 & 5073 & 36 & A\\\\\n",
       "\t670 & 11138 & 7263 & 1996-01-19 &  89880 & 3745 & 24 & A\\\\\n",
       "\t671 & 11141 & 7264 & 1997-10-07 &  44940 & 3745 & 12 & A\\\\\n",
       "\t672 & 11186 & 7271 & 1996-10-02 & 392460 & 6541 & 60 & C\\\\\n",
       "\t673 & 11231 & 7277 & 1997-10-24 &  89280 & 7440 & 12 & A\\\\\n",
       "\t674 & 11244 & 7279 & 1997-12-11 & 155760 & 6490 & 24 & C\\\\\n",
       "\t675 & 11265 & 7284 & 1993-09-15 &  52788 & 4399 & 12 & A\\\\\n",
       "\t676 & 11271 & 7286 & 1997-01-31 &  67320 & 1870 & 36 & C\\\\\n",
       "\t677 & 11317 & 7292 & 1998-11-22 & 317460 & 5291 & 60 & C\\\\\n",
       "\t678 & 11327 & 7294 & 1998-09-27 &  39168 & 1632 & 24 & C\\\\\n",
       "\t679 & 11328 & 7295 & 1998-07-18 & 280440 & 4674 & 60 & C\\\\\n",
       "\t680 & 11349 & 7304 & 1995-10-29 & 419880 & 6998 & 60 & C\\\\\n",
       "\t681 & 11359 & 7305 & 1996-08-06 &  54024 & 4502 & 12 & A\\\\\n",
       "\t682 & 11362 & 7308 & 1996-12-27 & 129408 & 5392 & 24 & A\\\\\n",
       "\\end{tabular}\n"
      ],
      "text/markdown": [
       "\n",
       "A data.frame: 682 x 7\n",
       "\n",
       "| <!--/--> | account_id &lt;int&gt; | id &lt;int&gt; | date &lt;chr&gt; | amount &lt;int&gt; | payments &lt;int&gt; | term &lt;chr&gt; | status &lt;chr&gt; |\n",
       "|---|---|---|---|---|---|---|---|\n",
       "| 1 |   2 | 4959 | 1994-01-05 |  80952 | 3373 | 24 | A |\n",
       "| 2 |  19 | 4961 | 1996-04-29 |  30276 | 2523 | 12 | B |\n",
       "| 3 |  25 | 4962 | 1997-12-08 |  30276 | 2523 | 12 | A |\n",
       "| 4 |  37 | 4967 | 1998-10-14 | 318480 | 5308 | 60 | D |\n",
       "| 5 |  38 | 4968 | 1998-04-19 | 110736 | 2307 | 48 | C |\n",
       "| 6 |  67 | 4973 | 1996-05-02 | 165960 | 6915 | 24 | A |\n",
       "| 7 |  97 | 4986 | 1997-08-10 | 102876 | 8573 | 12 | A |\n",
       "| 8 | 103 | 4988 | 1997-12-06 | 265320 | 7370 | 36 | D |\n",
       "| 9 | 105 | 4989 | 1998-12-05 | 352704 | 7348 | 48 | C |\n",
       "| 10 | 110 | 4990 | 1997-09-08 | 162576 | 4516 | 36 | C |\n",
       "| 11 | 132 | 4996 | 1996-11-06 |  88440 | 7370 | 12 | A |\n",
       "| 12 | 173 | 5002 | 1994-05-31 | 104808 | 8734 | 12 | A |\n",
       "| 13 | 176 | 5005 | 1997-04-10 |  27456 | 2288 | 12 | A |\n",
       "| 14 | 226 | 5015 | 1998-07-12 | 109344 | 9112 | 12 | C |\n",
       "| 15 | 276 | 5027 | 1998-12-02 | 160920 | 4470 | 36 | C |\n",
       "| 16 | 290 | 5032 | 1994-11-03 | 123696 | 2577 | 48 | A |\n",
       "| 17 | 303 | 5034 | 1998-05-30 | 112752 | 3132 | 36 | C |\n",
       "| 18 | 309 | 5036 | 1998-11-25 |  91248 | 1901 | 48 | C |\n",
       "| 19 | 314 | 5039 | 1997-05-03 |  66840 | 2785 | 24 | C |\n",
       "| 20 | 319 | 5041 | 1997-07-11 | 369000 | 6150 | 60 | C |\n",
       "| 21 | 330 | 5042 | 1998-07-12 | 331584 | 6908 | 48 | C |\n",
       "| 22 | 339 | 5043 | 1997-12-25 | 468060 | 7801 | 60 | C |\n",
       "| 23 | 344 | 5044 | 1994-12-21 | 100980 | 1683 | 60 | C |\n",
       "| 24 | 347 | 5045 | 1995-05-01 | 187224 | 7801 | 24 | B |\n",
       "| 25 | 349 | 5046 | 1998-09-09 |  42816 | 3568 | 12 | C |\n",
       "| 26 | 378 | 5051 | 1997-10-11 | 230400 | 3840 | 60 | C |\n",
       "| 27 | 426 | 5060 | 1994-07-19 | 252060 | 4201 | 60 | D |\n",
       "| 28 | 440 | 5061 | 1998-03-13 |  84288 | 1756 | 48 | C |\n",
       "| 29 | 442 | 5063 | 1997-07-10 | 357840 | 7455 | 48 | D |\n",
       "| 30 | 472 | 5072 | 1997-04-28 | 196800 | 8200 | 24 | D |\n",
       "| ... | ... | ... | ... | ... | ... | ... | ... |\n",
       "| 653 | 10915 | 7221 | 1998-06-11 | 152460 | 2541 | 60 | C |\n",
       "| 654 | 10940 | 7226 | 1994-02-23 | 197748 | 5493 | 36 | A |\n",
       "| 655 | 10942 | 7227 | 1995-10-02 | 314520 | 5242 | 60 | C |\n",
       "| 656 | 10954 | 7230 | 1997-04-02 |  18720 |  312 | 60 | C |\n",
       "| 657 | 10963 | 7233 | 1996-12-25 | 115812 | 3217 | 36 | C |\n",
       "| 658 | 10973 | 7235 | 1993-10-13 | 154416 | 3217 | 48 | A |\n",
       "| 659 | 11013 | 7240 | 1993-09-06 | 274740 | 4579 | 60 | A |\n",
       "| 660 | 11021 | 7241 | 1995-03-04 | 168984 | 7041 | 24 | B |\n",
       "| 661 | 11027 | 7242 | 1997-10-23 |  48096 | 2004 | 24 | C |\n",
       "| 662 | 11042 | 7243 | 1995-12-04 | 217152 | 6032 | 36 | A |\n",
       "| 663 | 11054 | 7246 | 1996-08-20 | 148920 | 2482 | 60 | C |\n",
       "| 664 | 11065 | 7249 | 1994-06-12 |  69360 | 1445 | 48 | A |\n",
       "| 665 | 11069 | 7250 | 1997-03-04 | 119136 | 2482 | 48 | C |\n",
       "| 666 | 11079 | 7253 | 1997-04-26 |  98304 | 8192 | 12 | A |\n",
       "| 667 | 11096 | 7255 | 1997-06-09 | 213300 | 3555 | 60 | C |\n",
       "| 668 | 11111 | 7259 | 1994-01-31 | 108144 | 3004 | 36 | A |\n",
       "| 669 | 11135 | 7262 | 1994-03-01 | 182628 | 5073 | 36 | A |\n",
       "| 670 | 11138 | 7263 | 1996-01-19 |  89880 | 3745 | 24 | A |\n",
       "| 671 | 11141 | 7264 | 1997-10-07 |  44940 | 3745 | 12 | A |\n",
       "| 672 | 11186 | 7271 | 1996-10-02 | 392460 | 6541 | 60 | C |\n",
       "| 673 | 11231 | 7277 | 1997-10-24 |  89280 | 7440 | 12 | A |\n",
       "| 674 | 11244 | 7279 | 1997-12-11 | 155760 | 6490 | 24 | C |\n",
       "| 675 | 11265 | 7284 | 1993-09-15 |  52788 | 4399 | 12 | A |\n",
       "| 676 | 11271 | 7286 | 1997-01-31 |  67320 | 1870 | 36 | C |\n",
       "| 677 | 11317 | 7292 | 1998-11-22 | 317460 | 5291 | 60 | C |\n",
       "| 678 | 11327 | 7294 | 1998-09-27 |  39168 | 1632 | 24 | C |\n",
       "| 679 | 11328 | 7295 | 1998-07-18 | 280440 | 4674 | 60 | C |\n",
       "| 680 | 11349 | 7304 | 1995-10-29 | 419880 | 6998 | 60 | C |\n",
       "| 681 | 11359 | 7305 | 1996-08-06 |  54024 | 4502 | 12 | A |\n",
       "| 682 | 11362 | 7308 | 1996-12-27 | 129408 | 5392 | 24 | A |\n",
       "\n"
      ],
      "text/plain": [
       "    account_id id   date       amount payments term status\n",
       "1     2        4959 1994-01-05  80952 3373     24   A     \n",
       "2    19        4961 1996-04-29  30276 2523     12   B     \n",
       "3    25        4962 1997-12-08  30276 2523     12   A     \n",
       "4    37        4967 1998-10-14 318480 5308     60   D     \n",
       "5    38        4968 1998-04-19 110736 2307     48   C     \n",
       "6    67        4973 1996-05-02 165960 6915     24   A     \n",
       "7    97        4986 1997-08-10 102876 8573     12   A     \n",
       "8   103        4988 1997-12-06 265320 7370     36   D     \n",
       "9   105        4989 1998-12-05 352704 7348     48   C     \n",
       "10  110        4990 1997-09-08 162576 4516     36   C     \n",
       "11  132        4996 1996-11-06  88440 7370     12   A     \n",
       "12  173        5002 1994-05-31 104808 8734     12   A     \n",
       "13  176        5005 1997-04-10  27456 2288     12   A     \n",
       "14  226        5015 1998-07-12 109344 9112     12   C     \n",
       "15  276        5027 1998-12-02 160920 4470     36   C     \n",
       "16  290        5032 1994-11-03 123696 2577     48   A     \n",
       "17  303        5034 1998-05-30 112752 3132     36   C     \n",
       "18  309        5036 1998-11-25  91248 1901     48   C     \n",
       "19  314        5039 1997-05-03  66840 2785     24   C     \n",
       "20  319        5041 1997-07-11 369000 6150     60   C     \n",
       "21  330        5042 1998-07-12 331584 6908     48   C     \n",
       "22  339        5043 1997-12-25 468060 7801     60   C     \n",
       "23  344        5044 1994-12-21 100980 1683     60   C     \n",
       "24  347        5045 1995-05-01 187224 7801     24   B     \n",
       "25  349        5046 1998-09-09  42816 3568     12   C     \n",
       "26  378        5051 1997-10-11 230400 3840     60   C     \n",
       "27  426        5060 1994-07-19 252060 4201     60   D     \n",
       "28  440        5061 1998-03-13  84288 1756     48   C     \n",
       "29  442        5063 1997-07-10 357840 7455     48   D     \n",
       "30  472        5072 1997-04-28 196800 8200     24   D     \n",
       "... ...        ...  ...        ...    ...      ...  ...   \n",
       "653 10915      7221 1998-06-11 152460 2541     60   C     \n",
       "654 10940      7226 1994-02-23 197748 5493     36   A     \n",
       "655 10942      7227 1995-10-02 314520 5242     60   C     \n",
       "656 10954      7230 1997-04-02  18720  312     60   C     \n",
       "657 10963      7233 1996-12-25 115812 3217     36   C     \n",
       "658 10973      7235 1993-10-13 154416 3217     48   A     \n",
       "659 11013      7240 1993-09-06 274740 4579     60   A     \n",
       "660 11021      7241 1995-03-04 168984 7041     24   B     \n",
       "661 11027      7242 1997-10-23  48096 2004     24   C     \n",
       "662 11042      7243 1995-12-04 217152 6032     36   A     \n",
       "663 11054      7246 1996-08-20 148920 2482     60   C     \n",
       "664 11065      7249 1994-06-12  69360 1445     48   A     \n",
       "665 11069      7250 1997-03-04 119136 2482     48   C     \n",
       "666 11079      7253 1997-04-26  98304 8192     12   A     \n",
       "667 11096      7255 1997-06-09 213300 3555     60   C     \n",
       "668 11111      7259 1994-01-31 108144 3004     36   A     \n",
       "669 11135      7262 1994-03-01 182628 5073     36   A     \n",
       "670 11138      7263 1996-01-19  89880 3745     24   A     \n",
       "671 11141      7264 1997-10-07  44940 3745     12   A     \n",
       "672 11186      7271 1996-10-02 392460 6541     60   C     \n",
       "673 11231      7277 1997-10-24  89280 7440     12   A     \n",
       "674 11244      7279 1997-12-11 155760 6490     24   C     \n",
       "675 11265      7284 1993-09-15  52788 4399     12   A     \n",
       "676 11271      7286 1997-01-31  67320 1870     36   C     \n",
       "677 11317      7292 1998-11-22 317460 5291     60   C     \n",
       "678 11327      7294 1998-09-27  39168 1632     24   C     \n",
       "679 11328      7295 1998-07-18 280440 4674     60   C     \n",
       "680 11349      7304 1995-10-29 419880 6998     60   C     \n",
       "681 11359      7305 1996-08-06  54024 4502     12   A     \n",
       "682 11362      7308 1996-12-27 129408 5392     24   A     "
      ]
     },
     "metadata": {},
     "output_type": "display_data"
    }
   ],
   "source": [
    "df"
   ]
  },
  {
   "cell_type": "code",
   "execution_count": 27,
   "metadata": {
    "vscode": {
     "languageId": "r"
    }
   },
   "outputs": [],
   "source": [
    "# Convert the \"month\" column to integers\n",
    "df$term <- as.integer(df$term)\n",
    "\n",
    "# Save the resulting DataFrame to a CSV file\n",
    "# write.csv(df, file = \"./loans_r.csv\", row.names = FALSE)\n"
   ]
  }
 ],
 "metadata": {
  "kernelspec": {
   "display_name": "R",
   "language": "R",
   "name": "ir"
  },
  "language_info": {
   "codemirror_mode": "r",
   "file_extension": ".r",
   "mimetype": "text/x-r-source",
   "name": "R",
   "pygments_lexer": "r",
   "version": "4.3.1"
  },
  "orig_nbformat": 4
 },
 "nbformat": 4,
 "nbformat_minor": 2
}
